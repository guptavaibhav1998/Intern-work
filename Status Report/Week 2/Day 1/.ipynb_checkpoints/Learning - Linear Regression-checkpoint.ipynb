{
 "cells": [
  {
   "cell_type": "markdown",
   "metadata": {},
   "source": [
    "# LINEAR REGRESSION\n",
    "\n",
    "Target valueh\n",
    "\n",
    "gradient                                                                                                                       \n",
    "input(regressor)                                                                                                               \n",
    "bias                                                                                                                           \n",
    "Linear   : y= w1*x +b                                                                                                           \n",
    "Multiple : y=sum(wi*xi) +b                                                                                                     \n",
    "MSE      : average((predicted-actual)^2)                                                                                       \n",
    "         : 1/n(sum(y' - yi)^2)                                                                                                 \n",
    "Grad Des : delta(w) = 1/n(sum((y'- yi)*xi)))                                                                                   \n",
    "         : new weight= old weight +(learning rate * gradient desendant)                                                        \n",
    "         : Wn = w0 + alpha* delta(w)                                                                                           "
   ]
  },
  {
   "cell_type": "code",
   "execution_count": 83,
   "metadata": {},
   "outputs": [],
   "source": [
    "#Import files and load data\n",
    "import pandas as pd\n",
    "import numpy as np\n",
    "import matplotlib.pyplot as plt\n",
    "#Load Predefined mondel\n",
    "from sklearn.model_selection import train_test_split #Split arrays or matrices into random train and test subsets.\n",
    "                                                     #Here TrainTestSplit divides the data set in 75% training 25% testing data\n",
    "from sklearn.linear_model import LinearRegression #Load Model\n",
    "data =pd.read_csv('HousePrice.csv')\n",
    "shortData=data[['Price (Older)', 'Price (New)']]  #This data contains only two columns"
   ]
  },
  {
   "cell_type": "code",
   "execution_count": 84,
   "metadata": {},
   "outputs": [],
   "source": [
    "#Define x and y (regressor and regressant)\n",
    "x=data[['Price (Older)']]\n",
    "y=data[['Price (New)']]"
   ]
  },
  {
   "cell_type": "code",
   "execution_count": 85,
   "metadata": {},
   "outputs": [],
   "source": [
    "#Use predefined linear regression model\n",
    "\n",
    "xTrain, xTest, yTrain, yTest=train_test_split(x,y) \n",
    "lm=LinearRegression()\n",
    "Lreg=lm.fit(xTrain,yTrain)"
   ]
  },
  {
   "cell_type": "code",
   "execution_count": 86,
   "metadata": {},
   "outputs": [
    {
     "name": "stdout",
     "output_type": "stream",
     "text": [
      "Coef(W1): [[0.89172059]]\n",
      "Intercept(W0/b): [22479.29837633]\n"
     ]
    }
   ],
   "source": [
    "#formula=(W1*x+b)\n",
    "print('Coef(W1):',Lreg.coef_)\n",
    "print('Intercept(W0/b):',Lreg.intercept_)\n",
    "w1=Lreg.coef_\n",
    "b=Lreg.intercept_"
   ]
  },
  {
   "cell_type": "code",
   "execution_count": 87,
   "metadata": {},
   "outputs": [
    {
     "data": {
      "image/png": "[encoded data removed]",
      "text/plain": [
       "<Figure size 432x288 with 1 Axes>"
      ]
     },
     "metadata": {
      "needs_background": "light"
     },
     "output_type": "display_data"
    }
   ],
   "source": [
    "#ploting the X and y values\n",
    "plt.scatter(x,y)\n",
    "plt.show()"
   ]
  },
  {
   "cell_type": "code",
   "execution_count": 88,
   "metadata": {},
   "outputs": [
    {
     "data": {
      "text/plain": [
       "<matplotlib.collections.PathCollection at 0x21a03281f28>"
      ]
     },
     "execution_count": 88,
     "metadata": {},
     "output_type": "execute_result"
    },
    {
     "data": {
      "image/png": "[encoded data removed]",
      "text/plain": [
       "<Figure size 432x288 with 1 Axes>"
      ]
     },
     "metadata": {
      "needs_background": "light"
     },
     "output_type": "display_data"
    }
   ],
   "source": [
    "# Mixing our regression line with the data \n",
    "plt.plot(x,w1*x+b,'red') #Regression line = red colour\n",
    "plt.scatter(x,y)"
   ]
  },
  {
   "cell_type": "markdown",
   "metadata": {},
   "source": [
    "### Description:\n",
    "The CSV file had a number of columns . But I used only two of them to show how simple regression works. ‘Price (Older)’ VS ‘Price (New)’ where ‘older’ is the x coordinate and ‘new’ is the y coordinate.\n"
   ]
  },
  {
   "cell_type": "markdown",
   "metadata": {},
   "source": [
    "### What is the Best Fit?\n",
    "It can be of any shape depending on the number of independent variables (a point on the axis, a line in two dimensions, a plane in three dimensions, or a hyperplane in higher dimensions).\n",
    "### Least Squares Method: \n",
    "The best fit is done by making sure that the sum of all the distances between the shape and the actual observations at each point is as small as possible. The fit of the shape is “best” in the sense that no other position would produce less error given the choice of shape"
   ]
  },
  {
   "cell_type": "code",
   "execution_count": 89,
   "metadata": {},
   "outputs": [],
   "source": [
    "#Pricting values of y from testing data\n",
    "yPred=(lm.predict(xTest))"
   ]
  },
  {
   "cell_type": "code",
   "execution_count": 90,
   "metadata": {},
   "outputs": [
    {
     "name": "stdout",
     "output_type": "stream",
     "text": [
      "26267.642084097057\n"
     ]
    }
   ],
   "source": [
    "from sklearn.metrics import mean_squared_error as mse \n",
    "print(np.sqrt(mse(yTest,yPred))) "
   ]
  },
  {
   "attachments": {},
   "cell_type": "markdown",
   "metadata": {},
   "source": [
    "# Increasing Accuracy\n",
    "1. Normalise your data, i.e., shift it to have a mean of zero, and a spread of 1 standard deviation\n",
    "2. Turn categorical data into continous variables via, e.g., OneHotEncoding(making the categorical data into columns)\n",
    "3. Do feature engineering:\n",
    "        Are my features collinear?\n",
    "        Do any of my features have cross terms/higher-order terms?\n",
    "4. Regularisation of the features to reduce possible overfitting\n",
    "5. Look at alternative models given the underlying features and the aim of the project\n",
    "\n",
    "### Normalization vs Standardization\n",
    "1. Normalization transforms your data into a range between 0 and 1\n",
    "2. Standardization transforms your data such that the resulting distribution has a mean of 0 and a standard deviation of 1\n",
    "Normalization/standardization are designed to achieve a similar goal, which is to create features that have similar ranges to each other. We want that so we can be sure we are capturing the true information in a feature, and that we dont over weigh a particular feature just because its values are much larger than other features.\n",
    "\n",
    "### Need of normalization and standardization\n",
    "We take a example of dataset where we have salary variable and age variable. Age can take range from 0 to 90 where salary can be from 25thousand to 2.5lakh.\n",
    "\n",
    "We compare difference for 2 person then age difference will be in range of below 100 where salary difference will in range of thousands.\n",
    "\n",
    "So if we don't want one variable to dominate other then we use either Normalisation or Standardization. Now both age and salary will be in same scale but when we use standardiztion or normalisation, we lose original values and it is transformed to some values. So loss of interpretation but extremely important when we want to draw inference from our data.\n",
    "\n",
    "Normalization rescales the values into a range of [0,1]. also called min-max scaled.\n",
    "\n",
    "Standardization rescales data to have a mean (μ) of 0 and standard deviation (σ) of 1.So it gives a normal graph.\n",
    "\n",
    "## Bias and Varriance\n",
    "The inability of machine learning method (like linear regression) to capture the true relationship is called bias. Because the straight line can't be curved like true relationship so it has relatively large ammount of bias.Whereas squicly line as relatively less amount of bias\n",
    "\n",
    "The difference in fits between the data sets(training and testing) is called varriance\n",
    "\n",
    "## Overfitting and underfitting\n",
    "If our regression model only fits the trianing data and does't fits the training data accurately then our model is over-fitted."
   ]
  },
  {
   "cell_type": "code",
   "execution_count": null,
   "metadata": {},
   "outputs": [],
   "source": []
  }
 ],
 "metadata": {
  "kernelspec": {
   "display_name": "Python 3",
   "language": "python",
   "name": "python3"
  },
  "language_info": {
   "codemirror_mode": {
    "name": "ipython",
    "version": 3
   },
   "file_extension": ".py",
   "mimetype": "text/x-python",
   "name": "python",
   "nbconvert_exporter": "python",
   "pygments_lexer": "ipython3",
   "version": "3.7.3"
  }
 },
 "nbformat": 4,
 "nbformat_minor": 2
}
