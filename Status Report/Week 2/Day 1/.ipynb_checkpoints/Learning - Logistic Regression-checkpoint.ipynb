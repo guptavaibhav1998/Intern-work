{
 "cells": [
  {
   "cell_type": "markdown",
   "metadata": {},
   "source": [
    "## What is Logistic Regression?\n",
    "It’s a classification algorithm, that is used where the response variable is categorical. The idea of Logistic Regression is to find a relationship between features and probability of particular outcome.\n",
    "Logistic regression predicts whether something is true or false,instead of predicting something continuous.\n",
    "Altough logistic regression tells us the possibility that a mouse is obese or not, it's actually use for classification.\n",
    "For example if probability a mouse is obese is >50% then we will classify as obese otherwise we will classify as not obese.\n",
    "Like linear regression , logistic regression can also deal with continuous and discrete data.\n",
    "\n",
    "In linear regression we fit the line using least squares(we find the line that minimizes the sum of the squarte of residuals)\n",
    "\n",
    "In logistic we can't use least squares and we can't calculate r^2, Instead it uses maximum liklihood."
   ]
  },
  {
   "cell_type": "markdown",
   "metadata": {},
   "source": [
    "### Table of Contents\n",
    "1. What is Logistic Regression?\n",
    "2. Dataset Visualization\n",
    "3. Hypothesis and Cost Function\n",
    "4. Training the model from scratch\n",
    "5. Model evaluation\n",
    "6. Scikit-learn implementation\n",
    "\n",
    "If you recall Linear Regression, it is used to determine the value of a continuous dependent variable. Logistic Regression is generally used for classification purposes. Unlike Linear Regression, the dependent variable can take a limited number of values only i.e, the dependent variable is categorical. When the number of possible outcomes is only two it is called Binary Logistic Regression.\n",
    "\n",
    "In Linear Regression, the output is the weighted sum of inputs. Logistic Regression is a generalized Linear Regression in the sense that we don’t output the weighted sum of inputs directly, but we pass it through a function that can map any real value between 0 and 1.\n",
    "\n",
    "If we take the weighted sum of inputs as the output as we do in Linear Regression, the value can be more than 1 but we want a value between 0 and 1. That’s why Linear Regression can’t be used for classification tasks.\n",
    "\n"
   ]
  },
  {
   "cell_type": "markdown",
   "metadata": {},
   "source": [
    "We can see from the below figure that the output of the linear regression is passed through an activation function that can map any real value between 0 and 1\n",
    "<img src=\"LogisticReg.png\">"
   ]
  },
  {
   "cell_type": "markdown",
   "metadata": {},
   "source": [
    "The activation function that is used is known as the sigmoid function. The plot of the sigmoid function looks like\n",
    "<img src=\"SigmoidFunction.png\">\n",
    "We can see that the value of the sigmoid function always lies between 0 and 1. The value is exactly 0.5 at X=0. We can use 0.5 as the probability threshold to determine the classes. If the probability is greater than 0.5, we classify it as Class-1(Y=1) or else as Class-0(Y=0).\n",
    "\n",
    "Before we build our model let’s look at the assumptions made by Logistic Regression:-                                         \n",
    "1. The dependent variable must be categorical                                                                                   \n",
    "2. The independent variables(features) must be independent (to avoid multicollinearity)."
   ]
  },
  {
   "cell_type": "markdown",
   "metadata": {},
   "source": [
    "## DataSet\n",
    "The data consists of marks of two exams for 100 applicants. The target value takes on binary values 1,0. 1 means the applicant was admitted to the university whereas 0 means the applicant didn't get an admission. The objective is to build a classifier that can predict whether an application will be admitted to the university or not.\n",
    "Let’s load the data into pandas Dataframe using the read_csv function. We will also split the data into admitted and non-admitted to visualize the data.\n"
   ]
  },
  {
   "cell_type": "code",
   "execution_count": 29,
   "metadata": {},
   "outputs": [],
   "source": [
    "import numpy as np\n",
    "import matplotlib.pyplot as plt\n",
    "import pandas as pd\n"
   ]
  },
  {
   "cell_type": "code",
   "execution_count": 30,
   "metadata": {},
   "outputs": [],
   "source": [
    "def loadData(path,header):\n",
    "    marks=pd.read_csv(path,header=header)\n",
    "    return marks"
   ]
  },
  {
   "cell_type": "code",
   "execution_count": 31,
   "metadata": {},
   "outputs": [
    {
     "name": "stdout",
     "output_type": "stream",
     "text": [
      "            0          1  2\n",
      "0   34.623660  78.024693  0\n",
      "1   30.286711  43.894998  0\n",
      "2   35.847409  72.902198  0\n",
      "3   60.182599  86.308552  1\n",
      "4   79.032736  75.344376  1\n",
      "5   45.083277  56.316372  0\n",
      "6   61.106665  96.511426  1\n",
      "7   75.024746  46.554014  1\n",
      "8   76.098787  87.420570  1\n",
      "9   84.432820  43.533393  1\n",
      "10  95.861555  38.225278  0\n",
      "11  75.013658  30.603263  0\n",
      "12  82.307053  76.481963  1\n",
      "13  69.364589  97.718692  1\n",
      "14  39.538339  76.036811  0\n",
      "15  53.971052  89.207350  1\n",
      "16  69.070144  52.740470  1\n",
      "17  67.946855  46.678574  0\n",
      "18  70.661510  92.927138  1\n",
      "19  76.978784  47.575964  1\n",
      "20  67.372028  42.838438  0\n",
      "21  89.676776  65.799366  1\n",
      "22  50.534788  48.855812  0\n",
      "23  34.212061  44.209529  0\n",
      "24  77.924091  68.972360  1\n",
      "25  62.271014  69.954458  1\n",
      "26  80.190181  44.821629  1\n",
      "27  93.114389  38.800670  0\n",
      "28  61.830206  50.256108  0\n",
      "29  38.785804  64.995681  0\n",
      "..        ...        ... ..\n",
      "70  32.722833  43.307173  0\n",
      "71  64.039320  78.031688  1\n",
      "72  72.346494  96.227593  1\n",
      "73  60.457886  73.094998  1\n",
      "74  58.840956  75.858448  1\n",
      "75  99.827858  72.369252  1\n",
      "76  47.264269  88.475865  1\n",
      "77  50.458160  75.809860  1\n",
      "78  60.455556  42.508409  0\n",
      "79  82.226662  42.719879  0\n",
      "80  88.913896  69.803789  1\n",
      "81  94.834507  45.694307  1\n",
      "82  67.319257  66.589353  1\n",
      "83  57.238706  59.514282  1\n",
      "84  80.366756  90.960148  1\n",
      "85  68.468522  85.594307  1\n",
      "86  42.075455  78.844786  0\n",
      "87  75.477702  90.424539  1\n",
      "88  78.635424  96.647427  1\n",
      "89  52.348004  60.769505  0\n",
      "90  94.094331  77.159105  1\n",
      "91  90.448551  87.508792  1\n",
      "92  55.482161  35.570703  0\n",
      "93  74.492692  84.845137  1\n",
      "94  89.845807  45.358284  1\n",
      "95  83.489163  48.380286  1\n",
      "96  42.261701  87.103851  1\n",
      "97  99.315009  68.775409  1\n",
      "98  55.340018  64.931938  1\n",
      "99  74.775893  89.529813  1\n",
      "\n",
      "[100 rows x 3 columns]\n"
     ]
    }
   ],
   "source": [
    "if __name__==\"__main__\":\n",
    "    data=loadData(\"MarksData.txt\",None)\n",
    "\n",
    "print(data)\n",
    "#Column 1= marks in 1st paper\n",
    "#Column 2= marks in 2nd paper\n",
    "#Column 3= admitted or not"
   ]
  },
  {
   "cell_type": "code",
   "execution_count": 32,
   "metadata": {
    "scrolled": false
   },
   "outputs": [
    {
     "name": "stdout",
     "output_type": "stream",
     "text": [
      "            0          1\n",
      "0   34.623660  78.024693\n",
      "1   30.286711  43.894998\n",
      "2   35.847409  72.902198\n",
      "3   60.182599  86.308552\n",
      "4   79.032736  75.344376\n",
      "5   45.083277  56.316372\n",
      "6   61.106665  96.511426\n",
      "7   75.024746  46.554014\n",
      "8   76.098787  87.420570\n",
      "9   84.432820  43.533393\n",
      "10  95.861555  38.225278\n",
      "11  75.013658  30.603263\n",
      "12  82.307053  76.481963\n",
      "13  69.364589  97.718692\n",
      "14  39.538339  76.036811\n",
      "15  53.971052  89.207350\n",
      "16  69.070144  52.740470\n",
      "17  67.946855  46.678574\n",
      "18  70.661510  92.927138\n",
      "19  76.978784  47.575964\n",
      "20  67.372028  42.838438\n",
      "21  89.676776  65.799366\n",
      "22  50.534788  48.855812\n",
      "23  34.212061  44.209529\n",
      "24  77.924091  68.972360\n",
      "25  62.271014  69.954458\n",
      "26  80.190181  44.821629\n",
      "27  93.114389  38.800670\n",
      "28  61.830206  50.256108\n",
      "29  38.785804  64.995681\n",
      "..        ...        ...\n",
      "70  32.722833  43.307173\n",
      "71  64.039320  78.031688\n",
      "72  72.346494  96.227593\n",
      "73  60.457886  73.094998\n",
      "74  58.840956  75.858448\n",
      "75  99.827858  72.369252\n",
      "76  47.264269  88.475865\n",
      "77  50.458160  75.809860\n",
      "78  60.455556  42.508409\n",
      "79  82.226662  42.719879\n",
      "80  88.913896  69.803789\n",
      "81  94.834507  45.694307\n",
      "82  67.319257  66.589353\n",
      "83  57.238706  59.514282\n",
      "84  80.366756  90.960148\n",
      "85  68.468522  85.594307\n",
      "86  42.075455  78.844786\n",
      "87  75.477702  90.424539\n",
      "88  78.635424  96.647427\n",
      "89  52.348004  60.769505\n",
      "90  94.094331  77.159105\n",
      "91  90.448551  87.508792\n",
      "92  55.482161  35.570703\n",
      "93  74.492692  84.845137\n",
      "94  89.845807  45.358284\n",
      "95  83.489163  48.380286\n",
      "96  42.261701  87.103851\n",
      "97  99.315009  68.775409\n",
      "98  55.340018  64.931938\n",
      "99  74.775893  89.529813\n",
      "\n",
      "[100 rows x 2 columns]\n",
      "------------------------------\n",
      "0     0\n",
      "1     0\n",
      "2     0\n",
      "3     1\n",
      "4     1\n",
      "5     0\n",
      "6     1\n",
      "7     1\n",
      "8     1\n",
      "9     1\n",
      "10    0\n",
      "11    0\n",
      "12    1\n",
      "13    1\n",
      "14    0\n",
      "15    1\n",
      "16    1\n",
      "17    0\n",
      "18    1\n",
      "19    1\n",
      "20    0\n",
      "21    1\n",
      "22    0\n",
      "23    0\n",
      "24    1\n",
      "25    1\n",
      "26    1\n",
      "27    0\n",
      "28    0\n",
      "29    0\n",
      "     ..\n",
      "70    0\n",
      "71    1\n",
      "72    1\n",
      "73    1\n",
      "74    1\n",
      "75    1\n",
      "76    1\n",
      "77    1\n",
      "78    0\n",
      "79    0\n",
      "80    1\n",
      "81    1\n",
      "82    1\n",
      "83    1\n",
      "84    1\n",
      "85    1\n",
      "86    0\n",
      "87    1\n",
      "88    1\n",
      "89    0\n",
      "90    1\n",
      "91    1\n",
      "92    0\n",
      "93    1\n",
      "94    1\n",
      "95    1\n",
      "96    1\n",
      "97    1\n",
      "98    1\n",
      "99    1\n",
      "Name: 2, Length: 100, dtype: int64\n"
     ]
    }
   ],
   "source": [
    "#features\n",
    "x=data.iloc[:,:-1]\n",
    "\n",
    "#target value\n",
    "y=data.iloc[:,-1]\n",
    "\n",
    "#admitted_candidates\n",
    "admitted=data.loc[y==1]\n",
    "\n",
    "#not admitted\n",
    "not_admitted=data.loc[y==0]\n",
    "\n",
    "print(x)\n",
    "print('-'*30)\n",
    "print(y)"
   ]
  },
  {
   "cell_type": "code",
   "execution_count": 33,
   "metadata": {},
   "outputs": [
    {
     "data": {
      "image/png": "[encoded data removed]",
      "text/plain": [
       "<Figure size 432x288 with 1 Axes>"
      ]
     },
     "metadata": {
      "needs_background": "light"
     },
     "output_type": "display_data"
    }
   ],
   "source": [
    "#Plots\n",
    "#Plot of marks1 vs marks 2 of admitted candidates\n",
    "plt.scatter(x=admitted.iloc[:,0],y=admitted.iloc[:,1],label='Admitted')\n",
    "\n",
    "#Plot of marks1 vs marks2 of not admitted candidates\n",
    "plt.scatter(x=not_admitted.iloc[:,0],y=not_admitted.iloc[:,1],label='Not Admitted')\n",
    "\n",
    "plt.xlabel('Marks in 1st exam')\n",
    "plt.ylabel('Marks in 2nd exam')\n",
    "plt.legend()\n",
    "plt.show()"
   ]
  },
  {
   "cell_type": "markdown",
   "metadata": {},
   "source": [
    "## Hypothesis and Cost Function\n",
    "\n",
    "Till now we have understood how Logistic Regression can be used to classify the instances into different classes. In this section, we will define the hypothesis and the cost function.\n",
    "A Linear Regression model can be represented by the equation.\n",
    "<img src=\"1.png\">\n",
    "\n",
    "We then apply the sigmoid function to the output of the linear regression\n",
    "<img src=\"2.png\">\n",
    "\n",
    "where the sigmoid function is represented by,\n",
    "<img src=\"3.png\">\n",
    "\n",
    "The hypothesis for logistic regression then becomes,\n",
    "<img src=\"4.png\">\n",
    "<img src=\"5.png\">\n",
    "\n",
    "\n",
    "If the weighted sum of inputs is greater than zero, the predicted class is 1 and vice-versa. So the decision boundary separating both the classes can be found by setting the weighted sum of inputs to 0.\n"
   ]
  },
  {
   "cell_type": "markdown",
   "metadata": {},
   "source": [
    "## Cost Function\n",
    "Like Linear Regression, we will define a cost function for our model and the objective will be to minimize the cost.\n",
    "\n",
    "The cost function for a single training example can be given by:\n",
    "<img src=\"6.png\">"
   ]
  },
  {
   "cell_type": "markdown",
   "metadata": {},
   "source": [
    "## Cost function intuition\n",
    "\n",
    "If the actual class is 1 and the model predicts 0, we should highly penalize it and vice-versa. As you can see from the below picture, for the plot -log(h(x)) as h(x) approaches 1, the cost is 0 and as h(x) nears 0, the cost is infinity(that is we penalize the model heavily). Similarly for the plot -log(1-h(x)) when the actual value is 0 and the model predicts 0, the cost is 0 and the cost becomes infinity as h(x) approaches 1.\n",
    "<img src=\"7.png\">\n",
    "\n",
    "We can combine both of the equations using:\n",
    "<img src=\"8.png\">\n",
    "\n",
    "The cost for all the training examples denoted by J(θ) can be computed by taking the average over the cost of all the training samples\n",
    "<img src=\"9.png\">\n",
    "\n",
    "where m is the number of training samples.\n",
    "\n",
    "We will use gradient descent to minimize the cost function. The gradient w.r.t any parameter can be given by\n",
    "<img src=\"10.png\">\n",
    "\n",
    "The equation is similar to what we achieved in Linear Regression, only h(x) is different in both the cases.\n",
    "\n"
   ]
  },
  {
   "cell_type": "markdown",
   "metadata": {},
   "source": [
    "## Training the model\n",
    "Now we have everything in place we need to build our model. Let’s implement this in code.\n",
    "\n",
    "Let’s first prepare the data for our model. "
   ]
  },
  {
   "cell_type": "code",
   "execution_count": 34,
   "metadata": {},
   "outputs": [
    {
     "name": "stdout",
     "output_type": "stream",
     "text": [
      "[[ 1.         34.62365962 78.02469282]\n",
      " [ 1.         30.28671077 43.89499752]\n",
      " [ 1.         35.84740877 72.90219803]\n",
      " [ 1.         60.18259939 86.3085521 ]\n",
      " [ 1.         79.03273605 75.34437644]\n",
      " [ 1.         45.08327748 56.31637178]\n",
      " [ 1.         61.10666454 96.51142588]\n",
      " [ 1.         75.02474557 46.55401354]\n",
      " [ 1.         76.0987867  87.42056972]\n",
      " [ 1.         84.43281996 43.53339331]\n",
      " [ 1.         95.86155507 38.22527806]\n",
      " [ 1.         75.01365839 30.60326323]\n",
      " [ 1.         82.30705337 76.4819633 ]\n",
      " [ 1.         69.36458876 97.71869196]\n",
      " [ 1.         39.53833914 76.03681085]\n",
      " [ 1.         53.97105215 89.20735014]\n",
      " [ 1.         69.07014406 52.74046973]\n",
      " [ 1.         67.94685548 46.67857411]\n",
      " [ 1.         70.66150955 92.92713789]\n",
      " [ 1.         76.97878373 47.57596365]\n",
      " [ 1.         67.37202755 42.83843832]\n",
      " [ 1.         89.67677575 65.79936593]\n",
      " [ 1.         50.53478829 48.85581153]\n",
      " [ 1.         34.21206098 44.2095286 ]\n",
      " [ 1.         77.92409145 68.97235999]\n",
      " [ 1.         62.27101367 69.95445795]\n",
      " [ 1.         80.19018075 44.82162893]\n",
      " [ 1.         93.1143888  38.80067034]\n",
      " [ 1.         61.83020602 50.25610789]\n",
      " [ 1.         38.7858038  64.99568096]\n",
      " [ 1.         61.37928945 72.80788731]\n",
      " [ 1.         85.40451939 57.05198398]\n",
      " [ 1.         52.10797973 63.12762377]\n",
      " [ 1.         52.04540477 69.43286012]\n",
      " [ 1.         40.23689374 71.16774802]\n",
      " [ 1.         54.63510555 52.21388588]\n",
      " [ 1.         33.91550011 98.86943574]\n",
      " [ 1.         64.17698887 80.90806059]\n",
      " [ 1.         74.78925296 41.57341523]\n",
      " [ 1.         34.18364003 75.23772034]\n",
      " [ 1.         83.90239366 56.30804622]\n",
      " [ 1.         51.54772027 46.85629026]\n",
      " [ 1.         94.44336777 65.56892161]\n",
      " [ 1.         82.36875376 40.61825516]\n",
      " [ 1.         51.04775177 45.82270146]\n",
      " [ 1.         62.22267576 52.06099195]\n",
      " [ 1.         77.19303493 70.4582    ]\n",
      " [ 1.         97.77159928 86.72782233]\n",
      " [ 1.         62.0730638  96.76882412]\n",
      " [ 1.         91.5649745  88.69629255]\n",
      " [ 1.         79.94481794 74.16311935]\n",
      " [ 1.         99.27252693 60.999031  ]\n",
      " [ 1.         90.54671411 43.39060181]\n",
      " [ 1.         34.52451385 60.39634246]\n",
      " [ 1.         50.28649612 49.80453881]\n",
      " [ 1.         49.58667722 59.80895099]\n",
      " [ 1.         97.64563396 68.86157272]\n",
      " [ 1.         32.57720017 95.59854761]\n",
      " [ 1.         74.24869137 69.82457123]\n",
      " [ 1.         71.79646206 78.45356225]\n",
      " [ 1.         75.39561147 85.75993667]\n",
      " [ 1.         35.28611282 47.02051395]\n",
      " [ 1.         56.2538175  39.26147251]\n",
      " [ 1.         30.05882245 49.59297387]\n",
      " [ 1.         44.66826172 66.45008615]\n",
      " [ 1.         66.56089447 41.09209808]\n",
      " [ 1.         40.45755098 97.53518549]\n",
      " [ 1.         49.07256322 51.88321182]\n",
      " [ 1.         80.27957401 92.11606081]\n",
      " [ 1.         66.74671857 60.99139403]\n",
      " [ 1.         32.72283304 43.30717306]\n",
      " [ 1.         64.03932042 78.03168802]\n",
      " [ 1.         72.34649423 96.22759297]\n",
      " [ 1.         60.45788574 73.0949981 ]\n",
      " [ 1.         58.84095622 75.85844831]\n",
      " [ 1.         99.8278578  72.36925193]\n",
      " [ 1.         47.26426911 88.475865  ]\n",
      " [ 1.         50.4581598  75.80985953]\n",
      " [ 1.         60.45555629 42.50840944]\n",
      " [ 1.         82.22666158 42.71987854]\n",
      " [ 1.         88.91389642 69.8037889 ]\n",
      " [ 1.         94.83450672 45.6943068 ]\n",
      " [ 1.         67.31925747 66.58935318]\n",
      " [ 1.         57.23870632 59.51428198]\n",
      " [ 1.         80.366756   90.9601479 ]\n",
      " [ 1.         68.46852179 85.5943071 ]\n",
      " [ 1.         42.07545454 78.844786  ]\n",
      " [ 1.         75.47770201 90.424539  ]\n",
      " [ 1.         78.63542435 96.64742717]\n",
      " [ 1.         52.34800399 60.76950526]\n",
      " [ 1.         94.09433113 77.15910509]\n",
      " [ 1.         90.44855097 87.50879176]\n",
      " [ 1.         55.48216114 35.57070347]\n",
      " [ 1.         74.49269242 84.84513685]\n",
      " [ 1.         89.84580671 45.35828361]\n",
      " [ 1.         83.48916274 48.3802858 ]\n",
      " [ 1.         42.26170081 87.10385094]\n",
      " [ 1.         99.31500881 68.77540947]\n",
      " [ 1.         55.34001756 64.93193801]\n",
      " [ 1.         74.775893   89.5298129 ]]\n",
      "(100, 1)\n"
     ]
    }
   ],
   "source": [
    "x = np.c_[np.ones((x.shape[0], 1)), x]\n",
    "y = y[:, np.newaxis]\n",
    "theta = np.zeros((x.shape[1], 1))\n",
    "print(x)\n",
    "\n",
    "print(y.shape)\n",
    "#Read about newaxis : https://stackoverflow.com/questions/29241056/how-does-numpy-newaxis-work-and-when-to-use-it\n",
    "# np.c_ adds along second axis\n",
    "# Read from here : https://stackoverflow.com/questions/10894323/what-does-the-c-underscore-expression-c-do-exactly/55296903"
   ]
  },
  {
   "cell_type": "code",
   "execution_count": 35,
   "metadata": {},
   "outputs": [],
   "source": [
    "#We will define some functions ths will be used to compute the cost\n",
    "def sigmoid(x):\n",
    "    # Activation function used to map any real value between 0 and 1\n",
    "    return 1 / (1 + np.exp(-x))\n",
    "\n",
    "def net_input(theta, x):\n",
    "    # Computes the weighted sum of inputs\n",
    "    # dot = dot product of two matrices\n",
    "    return np.dot(x, theta)\n",
    "\n",
    "def probability(theta, x):\n",
    "    # Returns the probability after passing through sigmoid\n",
    "    return sigmoid(net_input(theta, x))"
   ]
  },
  {
   "cell_type": "code",
   "execution_count": 36,
   "metadata": {},
   "outputs": [],
   "source": [
    "# Next, we define the cost and the gradient function.\n",
    "def cost_function(theta, x, y):\n",
    "    # Computes the cost function for all the training samples\n",
    "    m = x.shape[0]\n",
    "    total_cost = -(1 / m) * np.sum(\n",
    "        y * np.log(probability(theta, x)) + (1 - y) * np.log(\n",
    "            1 - probability(theta, x)))\n",
    "    return total_cost\n",
    "\n",
    "def gradient(theta, x, y):\n",
    "    # Computes the gradient of the cost function at the point theta\n",
    "    m = x.shape[0]\n",
    "    return (1 / m) * np.dot(np.transpose(x), sigmoid(net_input(theta,   x)) - y)\n",
    "\n"
   ]
  },
  {
   "cell_type": "markdown",
   "metadata": {},
   "source": [
    "Let’s also define the fit function which will be used to find the model parameters that minimizes the cost function. Here we coded the gradient descent approach to compute the model parameters. Here, we will use fmin_tnc function from the scipy library. It can be used to compute the minimum for any function. It takes arguments as\n",
    "\n",
    "1. func: the function to minimize\n",
    "2. x0: initial values for the parameters that we want to find\n",
    "3. fprime: gradient for the function defined by ‘func’\n",
    "4. args: arguments that needs to be passed to the functions."
   ]
  },
  {
   "cell_type": "code",
   "execution_count": 37,
   "metadata": {},
   "outputs": [],
   "source": [
    "from scipy import optimize\n",
    "def fit(x, y, theta):\n",
    "    opt_weights = optimize.fmin_tnc(func=cost_function, x0=theta,\n",
    "                  fprime=gradient,args=(x, y.flatten()))\n",
    "    return opt_weights[0]\n",
    "\n"
   ]
  },
  {
   "cell_type": "markdown",
   "metadata": {},
   "source": [
    "## Train Test Split\n"
   ]
  },
  {
   "cell_type": "code",
   "execution_count": 38,
   "metadata": {},
   "outputs": [
    {
     "name": "stdout",
     "output_type": "stream",
     "text": [
      "[-24.91359796   0.22644133   0.18326866]\n"
     ]
    }
   ],
   "source": [
    "from sklearn.model_selection import train_test_split\n",
    "xTrain, xTest, yTrain, yTest= train_test_split(x,y,test_size=0.3)\n",
    "parameters = fit(xTrain, yTrain, theta)\n",
    "print(parameters)"
   ]
  },
  {
   "cell_type": "markdown",
   "metadata": {},
   "source": [
    "## Plotting the decision boundary\n",
    "As there are two features in our dataset, the linear equation can be represented by,\n",
    "<img src=\"11.png\">\n",
    "\n",
    "As discussed earlier, the decision boundary can be found by setting the weighted sum of inputs to 0. Equating h(x) to 0 gives us,\n",
    "<img src=\"12.png\">\n",
    "\n",
    "We will plot our decision boundary on top of the plot we used for visualizing our dataset."
   ]
  },
  {
   "cell_type": "code",
   "execution_count": 39,
   "metadata": {},
   "outputs": [
    {
     "data": {
      "image/png": "[encoded data removed]",
      "text/plain": [
       "<Figure size 432x288 with 1 Axes>"
      ]
     },
     "metadata": {
      "needs_background": "light"
     },
     "output_type": "display_data"
    }
   ],
   "source": [
    "x_values = [np.min(x[:, 1] - 5), np.max(x[:, 2] + 5)]\n",
    "y_values = - (parameters[0] + np.dot(parameters[1], x_values)) / parameters[2]\n",
    "\n",
    "plt.plot(x_values, y_values, label='Decision Boundary')\n",
    "plt.scatter(x=admitted.iloc[:,0],y=admitted.iloc[:,1],label='Admitted')\n",
    "plt.scatter(x=not_admitted.iloc[:,0],y=not_admitted.iloc[:,1],label='Not Admitted')\n",
    "plt.xlabel('Marks in 1st Exam')\n",
    "plt.ylabel('Marks in 2nd Exam')\n",
    "plt.legend()\n",
    "plt.show()"
   ]
  },
  {
   "cell_type": "markdown",
   "metadata": {},
   "source": [
    "## Accuracy of model"
   ]
  },
  {
   "cell_type": "code",
   "execution_count": 40,
   "metadata": {},
   "outputs": [
    {
     "data": {
      "text/plain": [
       "93.33333333333333"
      ]
     },
     "execution_count": 40,
     "metadata": {},
     "output_type": "execute_result"
    }
   ],
   "source": [
    "def predict(x):\n",
    "    theta = parameters[:, np.newaxis]\n",
    "    return probability(theta, x)\n",
    "\n",
    "def accuracy(x, actual_classes, probab_threshold=0.5):\n",
    "    predicted_classes = (predict(x) >= probab_threshold).astype(int)\n",
    "    predicted_classes = predicted_classes.flatten()\n",
    "    accuracy = np.mean(predicted_classes == actual_classes)\n",
    "    return accuracy * 100\n",
    "\n",
    "def predict01(x):\n",
    "    yProb=predict(x)\n",
    "    yPred=[]\n",
    "    for i in yProb:\n",
    "        if float(i)>0.5:\n",
    "            yPred.append(1)\n",
    "        else:\n",
    "            yPred.append(0)\n",
    "    return yPred\n",
    "\n",
    "accuracy(xTest, yTest.flatten())"
   ]
  },
  {
   "cell_type": "markdown",
   "metadata": {},
   "source": [
    "##  Confusion Matrix\n",
    "\n",
    "Read form here: https://www.dataschool.io/simple-guide-to-confusion-matrix-terminology/"
   ]
  },
  {
   "cell_type": "code",
   "execution_count": 41,
   "metadata": {},
   "outputs": [
    {
     "data": {
      "text/plain": [
       "array([[12,  2],\n",
       "       [ 0, 16]], dtype=int64)"
      ]
     },
     "execution_count": 41,
     "metadata": {},
     "output_type": "execute_result"
    }
   ],
   "source": [
    "yPred = predict01(xTest)\n",
    "from sklearn.metrics import confusion_matrix ,classification_report\n",
    "confusion_matrix(yTest,yPred)"
   ]
  },
  {
   "cell_type": "markdown",
   "metadata": {},
   "source": [
    "### Accuracy\n",
    "Overall, how often is the classifier correct?                                                                                  \n",
    "(TP+TN)/total\n",
    "\n",
    "### Precission \n",
    "When it predicts yes, how often is it correct?                                                                                 \n",
    "TP/predicted yes \n",
    "\n",
    "### Recall\n",
    "When it's actually yes, how often does it predict yes?                                                                         \n",
    "TP/actual yes"
   ]
  },
  {
   "cell_type": "code",
   "execution_count": 42,
   "metadata": {},
   "outputs": [
    {
     "name": "stdout",
     "output_type": "stream",
     "text": [
      "              precision    recall  f1-score   support\n",
      "\n",
      "           0       1.00      0.86      0.92        14\n",
      "           1       0.89      1.00      0.94        16\n",
      "\n",
      "   micro avg       0.93      0.93      0.93        30\n",
      "   macro avg       0.94      0.93      0.93        30\n",
      "weighted avg       0.94      0.93      0.93        30\n",
      "\n"
     ]
    }
   ],
   "source": [
    "print(classification_report(yTest,yPred))"
   ]
  },
  {
   "cell_type": "code",
   "execution_count": null,
   "metadata": {},
   "outputs": [],
   "source": []
  }
 ],
 "metadata": {
  "kernelspec": {
   "display_name": "Python 3",
   "language": "python",
   "name": "python3"
  },
  "language_info": {
   "codemirror_mode": {
    "name": "ipython",
    "version": 3
   },
   "file_extension": ".py",
   "mimetype": "text/x-python",
   "name": "python",
   "nbconvert_exporter": "python",
   "pygments_lexer": "ipython3",
   "version": "3.7.3"
  }
 },
 "nbformat": 4,
 "nbformat_minor": 2
}
