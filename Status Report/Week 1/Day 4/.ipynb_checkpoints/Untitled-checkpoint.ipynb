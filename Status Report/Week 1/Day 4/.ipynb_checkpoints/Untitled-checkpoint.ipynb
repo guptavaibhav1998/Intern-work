{
 "cells": [
  {
   "cell_type": "markdown",
   "metadata": {},
   "source": [
    "# LINEAR REGRESSION\n",
    "\n",
    "Target valueh\n",
    "\n",
    "gradient                                                                                                                       \n",
    "input(regressor)                                                                                                               \n",
    "bias                                                                                                                           \n",
    "Linear   : y= w1*x +b                                                                                                           \n",
    "Multiple : y=sum(wi*xi) +b                                                                                                     \n",
    "MSE      : average((predicted-actual)^2)                                                                                       \n",
    "         : 1/n(sum(y' - yi)^2)                                                                                                 \n",
    "Grad Des : delta(w) = 1/n(sum((y'- yi)*xi)))                                                                                   \n",
    "         : new weight= old weight +(learning rate * gradient desendant)                                                        \n",
    "         : Wn = w0 + alpha* delta(w)                                                                                           "
   ]
  },
  {
   "cell_type": "markdown",
   "metadata": {},
   "source": [
    "import pandas as"
   ]
  }
 ],
 "metadata": {
  "kernelspec": {
   "display_name": "Python 3",
   "language": "python",
   "name": "python3"
  },
  "language_info": {
   "codemirror_mode": {
    "name": "ipython",
    "version": 3
   },
   "file_extension": ".py",
   "mimetype": "text/x-python",
   "name": "python",
   "nbconvert_exporter": "python",
   "pygments_lexer": "ipython3",
   "version": "3.7.3"
  }
 },
 "nbformat": 4,
 "nbformat_minor": 2
}
