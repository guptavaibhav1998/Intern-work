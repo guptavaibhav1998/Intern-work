{
 "cells": [
  {
   "cell_type": "code",
   "execution_count": 122,
   "metadata": {},
   "outputs": [
    {
     "data": {
      "text/plain": [
       "0     5\n",
       "1     6\n",
       "2     7\n",
       "3     8\n",
       "4     9\n",
       "5    10\n",
       "dtype: int64"
      ]
     },
     "execution_count": 122,
     "metadata": {},
     "output_type": "execute_result"
    }
   ],
   "source": [
    "# 2 main Data Structures of Pandas:\n",
    "# Series and DataFrames\n",
    "\n",
    "\n",
    "# 1.Series -- has index similar to hashmap.\n",
    "\n",
    "import pandas as pd\n",
    "myseries = pd.Series([5,6,7,8,9,10])\n",
    "myseries"
   ]
  },
  {
   "cell_type": "code",
   "execution_count": 123,
   "metadata": {},
   "outputs": [
    {
     "name": "stdout",
     "output_type": "stream",
     "text": [
      "RangeIndex(start=0, stop=6, step=1)\n",
      "[ 5  6  7  8  9 10]\n"
     ]
    }
   ],
   "source": [
    "#Attributes of Series -- Index and value\n",
    "print(myseries.index)\n",
    "print(myseries.values)"
   ]
  },
  {
   "cell_type": "code",
   "execution_count": 124,
   "metadata": {},
   "outputs": [
    {
     "data": {
      "text/plain": [
       "a     5\n",
       "b     6\n",
       "c     7\n",
       "d     8\n",
       "e     9\n",
       "f    10\n",
       "dtype: int64"
      ]
     },
     "execution_count": 124,
     "metadata": {},
     "output_type": "execute_result"
    }
   ],
   "source": [
    "#Providing index (labels) explicitly\n",
    "myseries2 = pd.Series([5,6,7,8,9,10],index = ['a','b','c','d','e','f'])\n",
    "myseries2"
   ]
  },
  {
   "cell_type": "code",
   "execution_count": 125,
   "metadata": {},
   "outputs": [
    {
     "name": "stdout",
     "output_type": "stream",
     "text": [
      "a     5\n",
      "b     6\n",
      "f    10\n",
      "dtype: int64\n",
      "----------\n",
      "a    0\n",
      "b    0\n",
      "c    7\n",
      "d    8\n",
      "e    9\n",
      "f    0\n",
      "dtype: int64\n"
     ]
    }
   ],
   "source": [
    "#retrieve several elements by their indexes or making group assignment\n",
    "print(myseries2[['a', 'b', 'f']])\n",
    "print(\"-\"*10)\n",
    "myseries2[['a', 'b', 'f']] = 0\n",
    "print(myseries2)"
   ]
  },
  {
   "cell_type": "code",
   "execution_count": 126,
   "metadata": {},
   "outputs": [
    {
     "name": "stdout",
     "output_type": "stream",
     "text": [
      "c    7\n",
      "d    8\n",
      "e    9\n",
      "dtype: int64\n",
      "----------\n",
      "c    14\n",
      "d    16\n",
      "e    18\n",
      "dtype: int64\n"
     ]
    }
   ],
   "source": [
    "#Filtering and math operations \n",
    "print(myseries2[myseries2>0])\n",
    "print(\"-\"*10)\n",
    "print(myseries2[myseries2>0]*2)"
   ]
  },
  {
   "cell_type": "code",
   "execution_count": 127,
   "metadata": {},
   "outputs": [
    {
     "name": "stdout",
     "output_type": "stream",
     "text": [
      "a    5\n",
      "b    6\n",
      "c    7\n",
      "d    8\n",
      "dtype: int64\n"
     ]
    }
   ],
   "source": [
    "#Series is very similar to dictionary, where key is an index and value is an element\n",
    "#Another form of assignment\n",
    "myseries3 = pd.Series({'a': 5, 'b': 6, 'c': 7, 'd': 8})\n",
    "print(myseries3)"
   ]
  },
  {
   "cell_type": "code",
   "execution_count": 128,
   "metadata": {},
   "outputs": [
    {
     "name": "stdout",
     "output_type": "stream",
     "text": [
      "letters\n",
      "a    5\n",
      "b    6\n",
      "c    7\n",
      "d    8\n",
      "Name: numbers, dtype: int64\n"
     ]
    }
   ],
   "source": [
    "#Series object and its index have name attributes, so you can label them\n",
    "myseries3.name = 'numbers'\n",
    "myseries3.index.name = 'letters'\n",
    "print(myseries3)"
   ]
  },
  {
   "cell_type": "code",
   "execution_count": 129,
   "metadata": {},
   "outputs": [
    {
     "name": "stdout",
     "output_type": "stream",
     "text": [
      "A    5\n",
      "B    6\n",
      "C    7\n",
      "D    8\n",
      "Name: numbers, dtype: int64\n"
     ]
    }
   ],
   "source": [
    "#Changing the Index\n",
    "myseries3.index = ['A', 'B', 'C', 'D']\n",
    "print(myseries3)"
   ]
  },
  {
   "cell_type": "code",
   "execution_count": 130,
   "metadata": {},
   "outputs": [],
   "source": [
    "# 2. DataFrames -- Simply said, DataFrame is a table. It has rows and columns. Each column in a DataFrame is a Series object, rows consist of elements inside Series.\n"
   ]
  },
  {
   "cell_type": "code",
   "execution_count": 131,
   "metadata": {},
   "outputs": [
    {
     "data": {
      "text/html": [
       "<div>\n",
       "<style scoped>\n",
       "    .dataframe tbody tr th:only-of-type {\n",
       "        vertical-align: middle;\n",
       "    }\n",
       "\n",
       "    .dataframe tbody tr th {\n",
       "        vertical-align: top;\n",
       "    }\n",
       "\n",
       "    .dataframe thead th {\n",
       "        text-align: right;\n",
       "    }\n",
       "</style>\n",
       "<table border=\"1\" class=\"dataframe\">\n",
       "  <thead>\n",
       "    <tr style=\"text-align: right;\">\n",
       "      <th></th>\n",
       "      <th>country</th>\n",
       "      <th>population</th>\n",
       "      <th>square</th>\n",
       "    </tr>\n",
       "  </thead>\n",
       "  <tbody>\n",
       "    <tr>\n",
       "      <th>0</th>\n",
       "      <td>Kazakhstan</td>\n",
       "      <td>17.04</td>\n",
       "      <td>2724902</td>\n",
       "    </tr>\n",
       "    <tr>\n",
       "      <th>1</th>\n",
       "      <td>Russia</td>\n",
       "      <td>143.50</td>\n",
       "      <td>17125191</td>\n",
       "    </tr>\n",
       "    <tr>\n",
       "      <th>2</th>\n",
       "      <td>Belarus</td>\n",
       "      <td>9.50</td>\n",
       "      <td>207600</td>\n",
       "    </tr>\n",
       "    <tr>\n",
       "      <th>3</th>\n",
       "      <td>Ukraine</td>\n",
       "      <td>45.50</td>\n",
       "      <td>603628</td>\n",
       "    </tr>\n",
       "  </tbody>\n",
       "</table>\n",
       "</div>"
      ],
      "text/plain": [
       "      country  population    square\n",
       "0  Kazakhstan       17.04   2724902\n",
       "1      Russia      143.50  17125191\n",
       "2     Belarus        9.50    207600\n",
       "3     Ukraine       45.50    603628"
      ]
     },
     "execution_count": 131,
     "metadata": {},
     "output_type": "execute_result"
    }
   ],
   "source": [
    "df = pd.DataFrame({\n",
    "...     'country': ['Kazakhstan', 'Russia', 'Belarus', 'Ukraine'],\n",
    "...     'population': [17.04, 143.5, 9.5, 45.5],\n",
    "...     'square': [2724902, 17125191, 207600, 603628]\n",
    "... })\n",
    "df"
   ]
  },
  {
   "cell_type": "code",
   "execution_count": 132,
   "metadata": {},
   "outputs": [
    {
     "data": {
      "text/plain": [
       "0    Kazakhstan\n",
       "1        Russia\n",
       "2       Belarus\n",
       "3       Ukraine\n",
       "Name: country, dtype: object"
      ]
     },
     "execution_count": 132,
     "metadata": {},
     "output_type": "execute_result"
    }
   ],
   "source": [
    "df['country']"
   ]
  },
  {
   "cell_type": "code",
   "execution_count": 133,
   "metadata": {},
   "outputs": [
    {
     "data": {
      "text/plain": [
       "Index(['country', 'population', 'square'], dtype='object')"
      ]
     },
     "execution_count": 133,
     "metadata": {},
     "output_type": "execute_result"
    }
   ],
   "source": [
    "df.columns\n"
   ]
  },
  {
   "cell_type": "code",
   "execution_count": 134,
   "metadata": {},
   "outputs": [
    {
     "data": {
      "text/plain": [
       "RangeIndex(start=0, stop=4, step=1)"
      ]
     },
     "execution_count": 134,
     "metadata": {},
     "output_type": "execute_result"
    }
   ],
   "source": [
    "df.index"
   ]
  },
  {
   "cell_type": "code",
   "execution_count": 135,
   "metadata": {},
   "outputs": [
    {
     "name": "stdout",
     "output_type": "stream",
     "text": [
      "                 country  population    square\n",
      "Country Code                                  \n",
      "KZ            Kazakhstan       17.04   2724902\n",
      "RU                Russia      143.50  17125191\n",
      "BY               Belarus        9.50    207600\n",
      "UA               Ukraine       45.50    603628\n",
      "--------------------\n"
     ]
    },
    {
     "data": {
      "text/plain": [
       "Index(['KZ', 'RU', 'BY', 'UA'], dtype='object', name='Country Code')"
      ]
     },
     "execution_count": 135,
     "metadata": {},
     "output_type": "execute_result"
    }
   ],
   "source": [
    "df = pd.DataFrame({\n",
    "...     'country': ['Kazakhstan', 'Russia', 'Belarus', 'Ukraine'],\n",
    "...     'population': [17.04, 143.5, 9.5, 45.5],\n",
    "...     'square': [2724902, 17125191, 207600, 603628]\n",
    "... })\n",
    "df.index = ['KZ', 'RU', 'BY', 'UA']\n",
    "df.index.name = 'Country Code'\n",
    "print(df)\n",
    "print('-'*20)\n",
    "df.index"
   ]
  },
  {
   "cell_type": "code",
   "execution_count": 136,
   "metadata": {},
   "outputs": [
    {
     "name": "stdout",
     "output_type": "stream",
     "text": [
      "country       Kazakhstan\n",
      "population         17.04\n",
      "square           2724902\n",
      "Name: KZ, dtype: object\n",
      "----------\n",
      "country       Belarus\n",
      "population        9.5\n",
      "square         207600\n",
      "Name: BY, dtype: object\n",
      "----------\n"
     ]
    }
   ],
   "source": [
    "#Row access using index can be performed in several ways:\n",
    "\n",
    "#using .loc and providing index label\n",
    "#using .iloc and providing index number\n",
    "\n",
    "print(df.loc['KZ'])\n",
    "print(\"-\"*10)\n",
    "print(df.iloc[2])\n",
    "print(\"-\"*10)"
   ]
  },
  {
   "cell_type": "code",
   "execution_count": 137,
   "metadata": {},
   "outputs": [
    {
     "name": "stdout",
     "output_type": "stream",
     "text": [
      "              population\n",
      "Country Code            \n",
      "KZ                 17.04\n",
      "RU                143.50\n",
      "BY                  9.50\n"
     ]
    }
   ],
   "source": [
    "#.loc takes 2 arguments: index list and column list, slicing operation is supported as well:\n",
    "\n",
    "print(df.loc['KZ':'BY', ['population']])"
   ]
  },
  {
   "cell_type": "code",
   "execution_count": 138,
   "metadata": {},
   "outputs": [
    {
     "data": {
      "text/html": [
       "<div>\n",
       "<style scoped>\n",
       "    .dataframe tbody tr th:only-of-type {\n",
       "        vertical-align: middle;\n",
       "    }\n",
       "\n",
       "    .dataframe tbody tr th {\n",
       "        vertical-align: top;\n",
       "    }\n",
       "\n",
       "    .dataframe thead th {\n",
       "        text-align: right;\n",
       "    }\n",
       "</style>\n",
       "<table border=\"1\" class=\"dataframe\">\n",
       "  <thead>\n",
       "    <tr style=\"text-align: right;\">\n",
       "      <th></th>\n",
       "      <th>country</th>\n",
       "      <th>population</th>\n",
       "      <th>square</th>\n",
       "    </tr>\n",
       "    <tr>\n",
       "      <th>Country Code</th>\n",
       "      <th></th>\n",
       "      <th></th>\n",
       "      <th></th>\n",
       "    </tr>\n",
       "  </thead>\n",
       "  <tbody>\n",
       "    <tr>\n",
       "      <th>KZ</th>\n",
       "      <td>Kazakhstan</td>\n",
       "      <td>17.04</td>\n",
       "      <td>2724902</td>\n",
       "    </tr>\n",
       "    <tr>\n",
       "      <th>RU</th>\n",
       "      <td>Russia</td>\n",
       "      <td>143.50</td>\n",
       "      <td>17125191</td>\n",
       "    </tr>\n",
       "    <tr>\n",
       "      <th>BY</th>\n",
       "      <td>Belarus</td>\n",
       "      <td>9.50</td>\n",
       "      <td>207600</td>\n",
       "    </tr>\n",
       "    <tr>\n",
       "      <th>UA</th>\n",
       "      <td>Ukraine</td>\n",
       "      <td>45.50</td>\n",
       "      <td>603628</td>\n",
       "    </tr>\n",
       "  </tbody>\n",
       "</table>\n",
       "</div>"
      ],
      "text/plain": [
       "                 country  population    square\n",
       "Country Code                                  \n",
       "KZ            Kazakhstan       17.04   2724902\n",
       "RU                Russia      143.50  17125191\n",
       "BY               Belarus        9.50    207600\n",
       "UA               Ukraine       45.50    603628"
      ]
     },
     "execution_count": 138,
     "metadata": {},
     "output_type": "execute_result"
    }
   ],
   "source": [
    "# Filtering is performed using so-called Boolean arrays\n",
    "df[df.population > 10][['country', 'square']]\n",
    "df"
   ]
  },
  {
   "cell_type": "code",
   "execution_count": 139,
   "metadata": {},
   "outputs": [
    {
     "data": {
      "text/html": [
       "<div>\n",
       "<style scoped>\n",
       "    .dataframe tbody tr th:only-of-type {\n",
       "        vertical-align: middle;\n",
       "    }\n",
       "\n",
       "    .dataframe tbody tr th {\n",
       "        vertical-align: top;\n",
       "    }\n",
       "\n",
       "    .dataframe thead th {\n",
       "        text-align: right;\n",
       "    }\n",
       "</style>\n",
       "<table border=\"1\" class=\"dataframe\">\n",
       "  <thead>\n",
       "    <tr style=\"text-align: right;\">\n",
       "      <th></th>\n",
       "      <th>country</th>\n",
       "      <th>population</th>\n",
       "      <th>square</th>\n",
       "      <th>density</th>\n",
       "    </tr>\n",
       "    <tr>\n",
       "      <th>Country Code</th>\n",
       "      <th></th>\n",
       "      <th></th>\n",
       "      <th></th>\n",
       "      <th></th>\n",
       "    </tr>\n",
       "  </thead>\n",
       "  <tbody>\n",
       "    <tr>\n",
       "      <th>KZ</th>\n",
       "      <td>Kazakhstan</td>\n",
       "      <td>17.04</td>\n",
       "      <td>2724902</td>\n",
       "      <td>6.253436</td>\n",
       "    </tr>\n",
       "    <tr>\n",
       "      <th>RU</th>\n",
       "      <td>Russia</td>\n",
       "      <td>143.50</td>\n",
       "      <td>17125191</td>\n",
       "      <td>8.379469</td>\n",
       "    </tr>\n",
       "    <tr>\n",
       "      <th>BY</th>\n",
       "      <td>Belarus</td>\n",
       "      <td>9.50</td>\n",
       "      <td>207600</td>\n",
       "      <td>45.761079</td>\n",
       "    </tr>\n",
       "    <tr>\n",
       "      <th>UA</th>\n",
       "      <td>Ukraine</td>\n",
       "      <td>45.50</td>\n",
       "      <td>603628</td>\n",
       "      <td>75.377550</td>\n",
       "    </tr>\n",
       "  </tbody>\n",
       "</table>\n",
       "</div>"
      ],
      "text/plain": [
       "                 country  population    square    density\n",
       "Country Code                                             \n",
       "KZ            Kazakhstan       17.04   2724902   6.253436\n",
       "RU                Russia      143.50  17125191   8.379469\n",
       "BY               Belarus        9.50    207600  45.761079\n",
       "UA               Ukraine       45.50    603628  75.377550"
      ]
     },
     "execution_count": 139,
     "metadata": {},
     "output_type": "execute_result"
    }
   ],
   "source": [
    "#Let’s add new column with population density\n",
    "df['density'] = df['population'] / df['square'] * 1000000\n",
    "df"
   ]
  },
  {
   "cell_type": "code",
   "execution_count": 140,
   "metadata": {},
   "outputs": [
    {
     "data": {
      "text/html": [
       "<div>\n",
       "<style scoped>\n",
       "    .dataframe tbody tr th:only-of-type {\n",
       "        vertical-align: middle;\n",
       "    }\n",
       "\n",
       "    .dataframe tbody tr th {\n",
       "        vertical-align: top;\n",
       "    }\n",
       "\n",
       "    .dataframe thead th {\n",
       "        text-align: right;\n",
       "    }\n",
       "</style>\n",
       "<table border=\"1\" class=\"dataframe\">\n",
       "  <thead>\n",
       "    <tr style=\"text-align: right;\">\n",
       "      <th></th>\n",
       "      <th>country</th>\n",
       "      <th>population</th>\n",
       "      <th>square</th>\n",
       "    </tr>\n",
       "    <tr>\n",
       "      <th>Country Code</th>\n",
       "      <th></th>\n",
       "      <th></th>\n",
       "      <th></th>\n",
       "    </tr>\n",
       "  </thead>\n",
       "  <tbody>\n",
       "    <tr>\n",
       "      <th>KZ</th>\n",
       "      <td>Kazakhstan</td>\n",
       "      <td>17.04</td>\n",
       "      <td>2724902</td>\n",
       "    </tr>\n",
       "    <tr>\n",
       "      <th>RU</th>\n",
       "      <td>Russia</td>\n",
       "      <td>143.50</td>\n",
       "      <td>17125191</td>\n",
       "    </tr>\n",
       "    <tr>\n",
       "      <th>BY</th>\n",
       "      <td>Belarus</td>\n",
       "      <td>9.50</td>\n",
       "      <td>207600</td>\n",
       "    </tr>\n",
       "    <tr>\n",
       "      <th>UA</th>\n",
       "      <td>Ukraine</td>\n",
       "      <td>45.50</td>\n",
       "      <td>603628</td>\n",
       "    </tr>\n",
       "  </tbody>\n",
       "</table>\n",
       "</div>"
      ],
      "text/plain": [
       "                 country  population    square\n",
       "Country Code                                  \n",
       "KZ            Kazakhstan       17.04   2724902\n",
       "RU                Russia      143.50  17125191\n",
       "BY               Belarus        9.50    207600\n",
       "UA               Ukraine       45.50    603628"
      ]
     },
     "execution_count": 140,
     "metadata": {},
     "output_type": "execute_result"
    }
   ],
   "source": [
    "# delete a column\n",
    "del df['density']\n",
    "df"
   ]
  },
  {
   "cell_type": "code",
   "execution_count": 141,
   "metadata": {},
   "outputs": [
    {
     "data": {
      "text/html": [
       "<div>\n",
       "<style scoped>\n",
       "    .dataframe tbody tr th:only-of-type {\n",
       "        vertical-align: middle;\n",
       "    }\n",
       "\n",
       "    .dataframe tbody tr th {\n",
       "        vertical-align: top;\n",
       "    }\n",
       "\n",
       "    .dataframe thead th {\n",
       "        text-align: right;\n",
       "    }\n",
       "</style>\n",
       "<table border=\"1\" class=\"dataframe\">\n",
       "  <thead>\n",
       "    <tr style=\"text-align: right;\">\n",
       "      <th></th>\n",
       "      <th>countries</th>\n",
       "      <th>population</th>\n",
       "      <th>square</th>\n",
       "    </tr>\n",
       "    <tr>\n",
       "      <th>country_code</th>\n",
       "      <th></th>\n",
       "      <th></th>\n",
       "      <th></th>\n",
       "    </tr>\n",
       "  </thead>\n",
       "  <tbody>\n",
       "    <tr>\n",
       "      <th>KZ</th>\n",
       "      <td>Kazakhstan</td>\n",
       "      <td>17.04</td>\n",
       "      <td>2724902</td>\n",
       "    </tr>\n",
       "    <tr>\n",
       "      <th>RU</th>\n",
       "      <td>Russia</td>\n",
       "      <td>143.50</td>\n",
       "      <td>17125191</td>\n",
       "    </tr>\n",
       "    <tr>\n",
       "      <th>BY</th>\n",
       "      <td>Belarus</td>\n",
       "      <td>9.50</td>\n",
       "      <td>207600</td>\n",
       "    </tr>\n",
       "    <tr>\n",
       "      <th>UA</th>\n",
       "      <td>Ukraine</td>\n",
       "      <td>45.50</td>\n",
       "      <td>603628</td>\n",
       "    </tr>\n",
       "  </tbody>\n",
       "</table>\n",
       "</div>"
      ],
      "text/plain": [
       "               countries  population    square\n",
       "country_code                                  \n",
       "KZ            Kazakhstan       17.04   2724902\n",
       "RU                Russia      143.50  17125191\n",
       "BY               Belarus        9.50    207600\n",
       "UA               Ukraine       45.50    603628"
      ]
     },
     "execution_count": 141,
     "metadata": {},
     "output_type": "execute_result"
    }
   ],
   "source": [
    "# renaming a column\n",
    "#Here Country Code is index so we can't rename it like this\n",
    "df = df.rename(columns={'Country Code': 'country_code','country':'countries'})\n",
    "#We have to change the index name\n",
    "df.index.name='country_code'\n",
    "df"
   ]
  },
  {
   "cell_type": "code",
   "execution_count": 142,
   "metadata": {},
   "outputs": [],
   "source": [
    "# Reading and Writing\n",
    "#pandas supports many popular file formats including CSV, XML, HTML etc.\n",
    "\n",
    "#But usually we use CSV files. For example, if you want to save our previous DataFrame run this:\n",
    "#df.to_csv('filename.csv')\n",
    "\n",
    "#For reading data use this:\n",
    "#df = pd.read_csv('filename.csv', sep=',')"
   ]
  },
  {
   "cell_type": "code",
   "execution_count": 143,
   "metadata": {},
   "outputs": [
    {
     "name": "stdout",
     "output_type": "stream",
     "text": [
      "   PassengerID                                           Name PClass    Age  \\\n",
      "0            1                   Allen, Miss Elisabeth Walton    1st  29.00   \n",
      "1            2                    Allison, Miss Helen Loraine    1st   2.00   \n",
      "2            3            Allison, Mr Hudson Joshua Creighton    1st  30.00   \n",
      "3            4  Allison, Mrs Hudson JC (Bessie Waldo Daniels)    1st  25.00   \n",
      "4            5                  Allison, Master Hudson Trevor    1st   0.92   \n",
      "\n",
      "      Sex  Survived  SexCode  \n",
      "0  female         1        1  \n",
      "1  female         0        1  \n",
      "2    male         0        0  \n",
      "3  female         0        1  \n",
      "4    male         1        0  \n"
     ]
    }
   ],
   "source": [
    "#Aggregating and Grouping in Pandas\n",
    "#Grouping is probably one of the most popular methods in data analysis. If you want to group data in pandas you have to use .groupby method.\n",
    "titanic_df = pd.read_csv('titanic.csv')\n",
    "print(titanic_df.head())"
   ]
  },
  {
   "cell_type": "code",
   "execution_count": 144,
   "metadata": {},
   "outputs": [
    {
     "name": "stdout",
     "output_type": "stream",
     "text": [
      "Sex     Survived\n",
      "female  0           154\n",
      "        1           308\n",
      "male    0           709\n",
      "        1           142\n",
      "Name: PassengerID, dtype: int64\n",
      "--------------------------------------------------\n",
      "Sex     Age  \n",
      "female  0.17      1\n",
      "        1.00      2\n",
      "        1.50      2\n",
      "        2.00      4\n",
      "        3.00      2\n",
      "        4.00      4\n",
      "        5.00      2\n",
      "        6.00      2\n",
      "        7.00      1\n",
      "        8.00      2\n",
      "        9.00      3\n",
      "        10.00     2\n",
      "        11.00     1\n",
      "        12.00     2\n",
      "        13.00     1\n",
      "        14.00     2\n",
      "        15.00     4\n",
      "        16.00     6\n",
      "        17.00     7\n",
      "        18.00    17\n",
      "        19.00     9\n",
      "        20.00     6\n",
      "        21.00    11\n",
      "        22.00    15\n",
      "        23.00     9\n",
      "        24.00    11\n",
      "        25.00     5\n",
      "        26.00     6\n",
      "        27.00     8\n",
      "        28.00     7\n",
      "                 ..\n",
      "male    37.00     4\n",
      "        38.00     6\n",
      "        39.00     9\n",
      "        40.00     7\n",
      "        41.00     7\n",
      "        42.00     9\n",
      "        43.00     4\n",
      "        44.00     5\n",
      "        45.00     9\n",
      "        46.00     7\n",
      "        47.00     7\n",
      "        48.00     6\n",
      "        49.00     8\n",
      "        50.00     4\n",
      "        51.00     3\n",
      "        52.00     4\n",
      "        54.00     6\n",
      "        55.00     3\n",
      "        56.00     3\n",
      "        57.00     3\n",
      "        58.00     2\n",
      "        59.00     2\n",
      "        60.00     2\n",
      "        61.00     3\n",
      "        62.00     1\n",
      "        64.00     5\n",
      "        65.00     2\n",
      "        67.00     1\n",
      "        70.00     1\n",
      "        71.00     3\n",
      "Name: PassengerID, Length: 133, dtype: int64\n"
     ]
    }
   ],
   "source": [
    "#Let’s calculate how many passengers (women and men) survived and how many did not, we will use .groupby as stated above.\n",
    "\n",
    "print(titanic_df.groupby(['Sex', 'Survived'])['PassengerID'].count())\n",
    "print('-'*50)\n",
    "temp=titanic_df.groupby(['Sex','Age'])['PassengerID'].count()\n",
    "print(temp)"
   ]
  },
  {
   "cell_type": "code",
   "execution_count": 145,
   "metadata": {},
   "outputs": [
    {
     "name": "stdout",
     "output_type": "stream",
     "text": [
      "PClass  Survived\n",
      "*       0             1\n",
      "1st     0           129\n",
      "        1           193\n",
      "2nd     0           160\n",
      "        1           119\n",
      "3rd     0           573\n",
      "        1           138\n",
      "Name: PassengerID, dtype: int64\n"
     ]
    }
   ],
   "source": [
    "#Now let’s analyze the same data by cabin class:\n",
    "print(titanic_df.groupby(['PClass', 'Survived'])['PassengerID'].count())"
   ]
  },
  {
   "cell_type": "code",
   "execution_count": 146,
   "metadata": {},
   "outputs": [],
   "source": [
    "#Pivoting tables in pandas\n",
    "#It is same like groupby(multidimensional) but is more readable and neat\n",
    "#It takes 4 arguments - index   :\n",
    "#                     - columns : \n",
    "#                     - values  : \n",
    "#                     - aggfunc : function used to aggregate(mean,median,max,count,min)\n",
    "#we will try survived in first 3 arguments arguments"
   ]
  },
  {
   "cell_type": "code",
   "execution_count": 147,
   "metadata": {},
   "outputs": [
    {
     "name": "stdout",
     "output_type": "stream",
     "text": [
      "                Name                     \n",
      "PClass             *    1st    2nd    3rd\n",
      "Sex    Survived                          \n",
      "female 0         NaN    9.0   13.0  132.0\n",
      "       1         NaN  134.0   94.0   80.0\n",
      "male   0         1.0  120.0  147.0  441.0\n",
      "       1         NaN   59.0   25.0   58.0\n"
     ]
    }
   ],
   "source": [
    "#Survived in index\n",
    "titanic_df = pd.read_csv('titanic.csv')\n",
    "pvt = titanic_df.pivot_table(index=['Sex','Survived'], columns=['PClass'], values=['Name'], aggfunc='count')\n",
    "print(pvt)"
   ]
  },
  {
   "cell_type": "code",
   "execution_count": 148,
   "metadata": {},
   "outputs": [
    {
     "name": "stdout",
     "output_type": "stream",
     "text": [
      "         Name                                        \n",
      "PClass      *    1st           2nd          3rd      \n",
      "Survived    0      0      1      0     1      0     1\n",
      "Sex                                                  \n",
      "female    NaN    9.0  134.0   13.0  94.0  132.0  80.0\n",
      "male      1.0  120.0   59.0  147.0  25.0  441.0  58.0\n"
     ]
    }
   ],
   "source": [
    "#Survived in columns\n",
    "pvt2= titanic_df.pivot_table(index=['Sex'], columns=['PClass','Survived'], values=['Name'], aggfunc='count')\n",
    "print(pvt2)"
   ]
  },
  {
   "cell_type": "code",
   "execution_count": 149,
   "metadata": {},
   "outputs": [
    {
     "name": "stdout",
     "output_type": "stream",
     "text": [
      "       Name                      Survived                     \n",
      "PClass    *    1st    2nd    3rd        *    1st    2nd    3rd\n",
      "Sex                                                           \n",
      "female  NaN  143.0  107.0  212.0      NaN  143.0  107.0  212.0\n",
      "male    1.0  179.0  172.0  499.0      1.0  179.0  172.0  499.0\n"
     ]
    }
   ],
   "source": [
    "#Survived in values\n",
    "pvt3= titanic_df.pivot_table(index=['Sex'], columns=['PClass'], values=['Name','Survived'], aggfunc='count')\n",
    "print(pvt3)"
   ]
  },
  {
   "cell_type": "code",
   "execution_count": 150,
   "metadata": {},
   "outputs": [
    {
     "data": {
      "text/html": [
       "<div>\n",
       "<style scoped>\n",
       "    .dataframe tbody tr th:only-of-type {\n",
       "        vertical-align: middle;\n",
       "    }\n",
       "\n",
       "    .dataframe tbody tr th {\n",
       "        vertical-align: top;\n",
       "    }\n",
       "\n",
       "    .dataframe thead th {\n",
       "        text-align: right;\n",
       "    }\n",
       "</style>\n",
       "<table border=\"1\" class=\"dataframe\">\n",
       "  <thead>\n",
       "    <tr style=\"text-align: right;\">\n",
       "      <th></th>\n",
       "      <th>PassengerID</th>\n",
       "      <th>Age</th>\n",
       "      <th>Survived</th>\n",
       "      <th>SexCode</th>\n",
       "    </tr>\n",
       "  </thead>\n",
       "  <tbody>\n",
       "    <tr>\n",
       "      <th>count</th>\n",
       "      <td>1313.000000</td>\n",
       "      <td>756.000000</td>\n",
       "      <td>1313.000000</td>\n",
       "      <td>1313.000000</td>\n",
       "    </tr>\n",
       "    <tr>\n",
       "      <th>mean</th>\n",
       "      <td>657.000000</td>\n",
       "      <td>30.397989</td>\n",
       "      <td>0.342727</td>\n",
       "      <td>0.351866</td>\n",
       "    </tr>\n",
       "    <tr>\n",
       "      <th>std</th>\n",
       "      <td>379.174762</td>\n",
       "      <td>14.259049</td>\n",
       "      <td>0.474802</td>\n",
       "      <td>0.477734</td>\n",
       "    </tr>\n",
       "    <tr>\n",
       "      <th>min</th>\n",
       "      <td>1.000000</td>\n",
       "      <td>0.170000</td>\n",
       "      <td>0.000000</td>\n",
       "      <td>0.000000</td>\n",
       "    </tr>\n",
       "    <tr>\n",
       "      <th>25%</th>\n",
       "      <td>329.000000</td>\n",
       "      <td>21.000000</td>\n",
       "      <td>0.000000</td>\n",
       "      <td>0.000000</td>\n",
       "    </tr>\n",
       "    <tr>\n",
       "      <th>50%</th>\n",
       "      <td>657.000000</td>\n",
       "      <td>28.000000</td>\n",
       "      <td>0.000000</td>\n",
       "      <td>0.000000</td>\n",
       "    </tr>\n",
       "    <tr>\n",
       "      <th>75%</th>\n",
       "      <td>985.000000</td>\n",
       "      <td>39.000000</td>\n",
       "      <td>1.000000</td>\n",
       "      <td>1.000000</td>\n",
       "    </tr>\n",
       "    <tr>\n",
       "      <th>max</th>\n",
       "      <td>1313.000000</td>\n",
       "      <td>71.000000</td>\n",
       "      <td>1.000000</td>\n",
       "      <td>1.000000</td>\n",
       "    </tr>\n",
       "  </tbody>\n",
       "</table>\n",
       "</div>"
      ],
      "text/plain": [
       "       PassengerID         Age     Survived      SexCode\n",
       "count  1313.000000  756.000000  1313.000000  1313.000000\n",
       "mean    657.000000   30.397989     0.342727     0.351866\n",
       "std     379.174762   14.259049     0.474802     0.477734\n",
       "min       1.000000    0.170000     0.000000     0.000000\n",
       "25%     329.000000   21.000000     0.000000     0.000000\n",
       "50%     657.000000   28.000000     0.000000     0.000000\n",
       "75%     985.000000   39.000000     1.000000     1.000000\n",
       "max    1313.000000   71.000000     1.000000     1.000000"
      ]
     },
     "execution_count": 150,
     "metadata": {},
     "output_type": "execute_result"
    }
   ],
   "source": [
    "titanic_df.describe()"
   ]
  },
  {
   "cell_type": "code",
   "execution_count": null,
   "metadata": {},
   "outputs": [],
   "source": []
  }
 ],
 "metadata": {
  "kernelspec": {
   "display_name": "Python 3",
   "language": "python",
   "name": "python3"
  },
  "language_info": {
   "codemirror_mode": {
    "name": "ipython",
    "version": 3
   },
   "file_extension": ".py",
   "mimetype": "text/x-python",
   "name": "python",
   "nbconvert_exporter": "python",
   "pygments_lexer": "ipython3",
   "version": "3.7.3"
  }
 },
 "nbformat": 4,
 "nbformat_minor": 2
}
