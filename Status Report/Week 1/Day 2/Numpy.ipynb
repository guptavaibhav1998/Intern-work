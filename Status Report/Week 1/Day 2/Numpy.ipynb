{
 "cells": [
  {
   "cell_type": "code",
   "execution_count": 21,
   "metadata": {},
   "outputs": [
    {
     "name": "stdout",
     "output_type": "stream",
     "text": [
      "Multiplication: [ 2  6 10 14 18 22]\n",
      "Division      : [0.5 1.5 2.5 3.5 4.5 5.5]\n",
      "Addition      : [ 2  4  6  8 10 12]\n",
      "Subtraction   : [ 0  2  4  6  8 10]\n"
     ]
    }
   ],
   "source": [
    "#Basic mathematical operations\n",
    "import numpy as np\n",
    "array=np.array([1,3,5,7,9,11])\n",
    "print(\"Multiplication:\",array*2)\n",
    "print(\"Division      :\",array/2)\n",
    "print(\"Addition      :\",array+1)\n",
    "print(\"Subtraction   :\",array-1)"
   ]
  },
  {
   "cell_type": "code",
   "execution_count": 22,
   "metadata": {},
   "outputs": [
    {
     "name": "stdout",
     "output_type": "stream",
     "text": [
      "6\n",
      "(6,)\n"
     ]
    }
   ],
   "source": [
    "#Size and shape\n",
    "size=array.size\n",
    "shape=array.shape\n",
    "print(size)\n",
    "print(shape)"
   ]
  },
  {
   "cell_type": "code",
   "execution_count": 23,
   "metadata": {},
   "outputs": [
    {
     "name": "stdout",
     "output_type": "stream",
     "text": [
      "array: [ 1  3  5  7  9 11]\n",
      "--------------------\n",
      "reshaped array:\n",
      "[[ 1  3]\n",
      " [ 5  7]\n",
      " [ 9 11]]\n"
     ]
    }
   ],
   "source": [
    "#Reshaping of array\n",
    "reshaped_array=array.reshape(3,2)\n",
    "print(\"array:\",array)\n",
    "print(\"-\"*20)\n",
    "print(\"reshaped array:\")\n",
    "print(reshaped_array)"
   ]
  },
  {
   "cell_type": "code",
   "execution_count": 24,
   "metadata": {},
   "outputs": [
    {
     "name": "stdout",
     "output_type": "stream",
     "text": [
      "3\n"
     ]
    }
   ],
   "source": [
    "#Accessing elements using Index\n",
    "numpy_array = np.array([1, 2, 3, 4, 5, 6, 7, 8, 9])\n",
    "print(numpy_array[2]) \n"
   ]
  },
  {
   "cell_type": "code",
   "execution_count": 25,
   "metadata": {},
   "outputs": [
    {
     "name": "stdout",
     "output_type": "stream",
     "text": [
      "[1 2 3 4]\n"
     ]
    }
   ],
   "source": [
    "#Accessing Elements\n",
    "numpy_array = np.array([1, 2, 3, 4, 5, 6, 7, 8, 9])\n",
    "print(numpy_array[0:4])"
   ]
  },
  {
   "cell_type": "code",
   "execution_count": 26,
   "metadata": {},
   "outputs": [
    {
     "name": "stdout",
     "output_type": "stream",
     "text": [
      "Array [1 2 3 4 5 6 7 8 9]\n",
      "Reversed Array [9 8 7 6 5 4 3 2 1]\n"
     ]
    }
   ],
   "source": [
    "#Reversing an array\n",
    "print(\"Array\",numpy_array)\n",
    "print(\"Reversed Array\",numpy_array[::-1])"
   ]
  },
  {
   "cell_type": "code",
   "execution_count": 29,
   "metadata": {},
   "outputs": [
    {
     "name": "stdout",
     "output_type": "stream",
     "text": [
      "Max   : 9\n",
      "Min   : 1\n",
      "Sum   : 45\n",
      "Median: 5.0\n"
     ]
    }
   ],
   "source": [
    "#Aggregation(Min,Max,Sum)\n",
    "print(\"Max   :\",numpy_array.max())\n",
    "print(\"Min   :\",numpy_array.min())\n",
    "print(\"Sum   :\",numpy_array.sum())\n",
    "print(\"Median:\",np.median(numpy_array))"
   ]
  },
  {
   "cell_type": "code",
   "execution_count": 11,
   "metadata": {},
   "outputs": [
    {
     "name": "stdout",
     "output_type": "stream",
     "text": [
      "Mean         : 5.0\n",
      "Varriance    : 6.666666666666667\n",
      "Std Deviation: 2.581988897471611\n"
     ]
    }
   ],
   "source": [
    "#Central quatitities\n",
    "print(\"Mean         :\",numpy_array.mean())\n",
    "print(\"Varriance    :\",numpy_array.var())\n",
    "print(\"Std Deviation:\",numpy_array.std())"
   ]
  },
  {
   "cell_type": "code",
   "execution_count": 12,
   "metadata": {},
   "outputs": [
    {
     "name": "stdout",
     "output_type": "stream",
     "text": [
      "[[1 2]\n",
      " [3 4]\n",
      " [5 6]\n",
      " [7 8]]\n",
      "--------------------\n",
      "[16 20]\n",
      "--------------------\n",
      "[ 3  7 11 15]\n",
      "--------------------\n",
      "36\n"
     ]
    }
   ],
   "source": [
    "#Operations on rows and columns using axis\n",
    "numpy_matrix = np.array([(1, 2, 3, 4), (5, 6, 7, 8)])\n",
    "numpy_matrix = numpy_matrix.reshape(4, 2)\n",
    "print(numpy_matrix)\n",
    "print(\"-\"*20)\n",
    "print(numpy_matrix.sum(axis = 0))\n",
    "print(\"-\"*20)\n",
    "print(numpy_matrix.sum(axis = 1))\n",
    "print(\"-\"*20)\n",
    "print(numpy_matrix.sum(axis = None))"
   ]
  },
  {
   "cell_type": "code",
   "execution_count": 13,
   "metadata": {},
   "outputs": [
    {
     "name": "stdout",
     "output_type": "stream",
     "text": [
      "[1 2 3 4 5 6 7 8 9]\n",
      "[[1 2 3 0 0 0]\n",
      " [0 0 0 7 8 9]]\n"
     ]
    }
   ],
   "source": [
    "#Joining arrays\n",
    "array_1 = np.array([1,2,3])\n",
    "array_2 = np.array([4,5,6])\n",
    "array_3 = np.array([7,8,9])\n",
    "print(np.concatenate((array_1, array_2, array_3)))    \n",
    "array_4 = np.array([[1,2,3],[0,0,0]])\n",
    "array_5 = np.array([[0,0,0],[7,8,9]])\n",
    "print(np.concatenate((array_4, array_5),axis=1))   "
   ]
  },
  {
   "cell_type": "code",
   "execution_count": 14,
   "metadata": {},
   "outputs": [
    {
     "name": "stdout",
     "output_type": "stream",
     "text": [
      "[[0. 0.]]\n",
      "[[0 0]]\n"
     ]
    }
   ],
   "source": [
    "#Arrays with zeroes\n",
    "print(np.zeros((1,2)))                   \n",
    "print(np.zeros((1,2), dtype = np.int)) "
   ]
  },
  {
   "cell_type": "code",
   "execution_count": 15,
   "metadata": {},
   "outputs": [
    {
     "name": "stdout",
     "output_type": "stream",
     "text": [
      "[[1. 1.]]\n",
      "[[1 1]]\n"
     ]
    }
   ],
   "source": [
    "#Arrays with ones\n",
    "print(np.ones((1,2)))                   \n",
    "print(np.ones((1,2), dtype = np.int))"
   ]
  },
  {
   "cell_type": "code",
   "execution_count": 16,
   "metadata": {},
   "outputs": [
    {
     "name": "stdout",
     "output_type": "stream",
     "text": [
      "[[1. 0. 0.]\n",
      " [0. 1. 0.]\n",
      " [0. 0. 1.]]\n",
      "--------------------\n",
      "[[0. 1. 0. 0. 0. 0. 0.]\n",
      " [0. 0. 1. 0. 0. 0. 0.]\n",
      " [0. 0. 0. 1. 0. 0. 0.]\n",
      " [0. 0. 0. 0. 1. 0. 0.]\n",
      " [0. 0. 0. 0. 0. 1. 0.]\n",
      " [0. 0. 0. 0. 0. 0. 1.]\n",
      " [0. 0. 0. 0. 0. 0. 0.]\n",
      " [0. 0. 0. 0. 0. 0. 0.]]\n"
     ]
    }
   ],
   "source": [
    "#Identity and Eye Matrix\n",
    "print(np.identity(3))\n",
    "print(\"-\"*20)\n",
    "print(np.eye(8, 7, k = 1))"
   ]
  },
  {
   "cell_type": "code",
   "execution_count": 17,
   "metadata": {},
   "outputs": [
    {
     "name": "stdout",
     "output_type": "stream",
     "text": [
      "Dot Product  : 11\n",
      "Cross Product: -2\n"
     ]
    }
   ],
   "source": [
    "#Multiplying Matri\n",
    "array_6 = np.array([ 1, 2 ])\n",
    "array_7 = np.array([ 3, 4 ])\n",
    "print(\"Dot Product  :\",np.dot(array_6, array_7))\n",
    "print(\"Cross Product:\",np.cross(array_6, array_7))      "
   ]
  },
  {
   "cell_type": "code",
   "execution_count": 32,
   "metadata": {},
   "outputs": [
    {
     "name": "stdout",
     "output_type": "stream",
     "text": [
      "[0 1 2 3 4]\n",
      "--------------------\n",
      "[1 2 3 4 5 6 7 8 9]\n",
      "--------------------\n",
      "[[ 0  2  4]\n",
      " [ 6  8 10]]\n"
     ]
    }
   ],
   "source": [
    "#Arrange Function\n",
    "arr1d = np.arange(5)\n",
    "print(arr1d)\n",
    "print(\"-\"*20)\n",
    "arr1d = np.arange(0, 12, 2)\n",
    "print(numpy_array)\n",
    "print(\"-\"*20)\n",
    "arr2d = np.arange(0, 12, 2).reshape(2, 3)\n",
    "print(arr2d) "
   ]
  },
  {
   "cell_type": "code",
   "execution_count": 33,
   "metadata": {},
   "outputs": [
    {
     "name": "stdout",
     "output_type": "stream",
     "text": [
      "[[-0.54402111  0.91294525 -0.98803162]\n",
      " [ 0.74511316 -0.26237485 -0.30481062]]\n",
      "----------------------------------------\n",
      "[[-0.83907153  0.40808206  0.15425145]\n",
      " [-0.66693806  0.96496603 -0.95241298]]\n",
      "----------------------------------------\n",
      "[[ 0.64836083  2.23716094 -6.4053312 ]\n",
      " [-1.11721493 -0.27190061  0.32004039]]\n",
      "----------------------------------------\n",
      "[[3.16227766 4.47213595 5.47722558]\n",
      " [6.32455532 7.07106781 7.74596669]]\n",
      "----------------------------------------\n",
      "[[2.20264658e+04 4.85165195e+08 1.06864746e+13]\n",
      " [2.35385267e+17 5.18470553e+21 1.14200739e+26]]\n",
      "----------------------------------------\n",
      "[[1.         1.30103    1.47712125]\n",
      " [1.60205999 1.69897    1.77815125]]\n",
      "----------------------------------------\n"
     ]
    }
   ],
   "source": [
    "#Elementary mathematical operations\n",
    "#Elementary Mathematical Functions \n",
    "\n",
    "arr2d = np.array([[10, 20, 30], [40, 50, 60]])\n",
    "\n",
    "print(np.sin(arr2d))\n",
    "print(\"-\" * 40)\n",
    " \n",
    "print(np.cos(arr2d))\n",
    "print(\"-\" * 40)\n",
    " \n",
    "print(np.tan(arr2d))\n",
    "print(\"-\" * 40)\n",
    " \n",
    "print(np.sqrt(arr2d))\n",
    "print(\"-\" * 40)\n",
    " \n",
    "print(np.exp(arr2d))\n",
    "print(\"-\" * 40)\n",
    " \n",
    "print(np.log10(arr2d))\n",
    "print(\"-\" * 40)"
   ]
  },
  {
   "cell_type": "code",
   "execution_count": 36,
   "metadata": {},
   "outputs": [
    {
     "name": "stdout",
     "output_type": "stream",
     "text": [
      "[[0.63479487 0.45522839]\n",
      " [0.36236428 0.16512442]\n",
      " [0.13561867 0.3011773 ]]\n",
      "--------------------\n",
      "[[-0.13615479 -0.92862273]\n",
      " [ 0.26136686 -0.51833194]\n",
      " [ 0.24262491  0.51039654]]\n",
      "--------------------\n",
      "--------------------\n",
      "[0 0 1 0 0 0 1 0 0 0]\n",
      "--------------------\n",
      "[[1 2 1 2]\n",
      " [4 2 1 1]]\n"
     ]
    }
   ],
   "source": [
    "#Random Number Array\n",
    "print(np.random.rand(3, 2))  # Uniformly distributed values.\n",
    "print(\"-\"*20)\n",
    "print(np.random.randn(3, 2))  # Normally distributed values.\n",
    "print(\"-\"*20)\n",
    "print(\"-\"*20)\n",
    "# Uniformly distributed integers in a given range.\n",
    "print(np.random.randint(2, size=10)) #range is 0-2\n",
    "print(\"-\"*20)\n",
    "print(np.random.randint(5, size=(2, 4))) #range is 0-5"
   ]
  },
  {
   "cell_type": "code",
   "execution_count": null,
   "metadata": {},
   "outputs": [],
   "source": []
  },
  {
   "cell_type": "code",
   "execution_count": null,
   "metadata": {},
   "outputs": [],
   "source": []
  }
 ],
 "metadata": {
  "kernelspec": {
   "display_name": "Python 3",
   "language": "python",
   "name": "python3"
  },
  "language_info": {
   "codemirror_mode": {
    "name": "ipython",
    "version": 3
   },
   "file_extension": ".py",
   "mimetype": "text/x-python",
   "name": "python",
   "nbconvert_exporter": "python",
   "pygments_lexer": "ipython3",
   "version": "3.7.3"
  }
 },
 "nbformat": 4,
 "nbformat_minor": 2
}
