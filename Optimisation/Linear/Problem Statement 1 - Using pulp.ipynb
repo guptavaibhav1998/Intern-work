{
 "cells": [
  {
   "cell_type": "markdown",
   "metadata": {},
   "source": [
    "### Problem Statement\n",
    "\n",
    "A company builds computers. A computer is a fairly complex product, and there are several factories that assemble them which the company pays a certain amount per unit. The cost of this computer model on the market is fixed at 500, different factories assemble the computers at different speeds and costs. Factory f0 produces 2000 per day at 450 per unit, factory f1 1500 per day at 420 per unit and f2 1000 per day at 400 per unit. We have 1 month to assemble 80 000 units under the constraint that no factory is to produce more than double the units than any other factory. The question is, what is the optimal production allocation between the factories such that we maximize the profit obtained from selling the computers under those constraints"
   ]
  },
  {
   "cell_type": "code",
   "execution_count": 1,
   "metadata": {},
   "outputs": [
    {
     "name": "stdout",
     "output_type": "stream",
     "text": [
      "Requirement already satisfied: pulp in c:\\users\\vaibhavgupta02\\appdata\\local\\continuum\\anaconda3\\lib\\site-packages (1.6.10)\n",
      "Requirement already satisfied: pyparsing>=2.0.1 in c:\\users\\vaibhavgupta02\\appdata\\local\\continuum\\anaconda3\\lib\\site-packages (from pulp) (2.3.1)\n"
     ]
    }
   ],
   "source": [
    "import numpy as np\n",
    "import pandas as pd\n",
    "!pip install pulp\n",
    "from pulp import *"
   ]
  },
  {
   "cell_type": "markdown",
   "metadata": {},
   "source": [
    "#### To solve the computer production problem with linear programming, we need the following things:\n",
    "\n",
    "1. The set of decision variables\n",
    "2. The set of linear constraints on those variables\n",
    "3. A linear objective function to maximize or minimize "
   ]
  },
  {
   "cell_type": "code",
   "execution_count": 2,
   "metadata": {},
   "outputs": [],
   "source": [
    "problem = LpProblem(\"problemName\", LpMaximize)"
   ]
  },
  {
   "cell_type": "markdown",
   "metadata": {},
   "source": [
    "We need to create a problem object with the above code:\n",
    "We are going to add the constraints and objective function to this object.Problem constructor receives a problem name and LpMaximize, which means we want to maximize our objective function. In our case, this is the profit from selling a certain number of computers."
   ]
  },
  {
   "cell_type": "code",
   "execution_count": 3,
   "metadata": {},
   "outputs": [],
   "source": [
    "# factory cost per day\n",
    "cf0 = 450\n",
    "cf1 = 420\n",
    "cf2 = 400\n",
    "\n",
    "# factory throughput per day\n",
    "f0 = 2000\n",
    "f1 = 1500\n",
    "f2 = 1000\n",
    "\n",
    "# production goal\n",
    "goal = 80000\n",
    "\n",
    "# time limit\n",
    "max_num_days = 30\n",
    "\n",
    "num_factories = 3"
   ]
  },
  {
   "cell_type": "markdown",
   "metadata": {},
   "source": [
    "### Decision Variables\n",
    "In PuLP, a decision variable is defined the following way\n"
   ]
  },
  {
   "cell_type": "code",
   "execution_count": 4,
   "metadata": {},
   "outputs": [],
   "source": [
    "# varriable=LpVariable(\"varriableName\")\n",
    "# var = LpVariable(\"boundedVariableName\",lowerBound,upperBound)\n",
    "# varDict = LpVariable.dicts(\"varDict\", variableNames, lowBound, upBound)"
   ]
  },
  {
   "cell_type": "code",
   "execution_count": 5,
   "metadata": {},
   "outputs": [],
   "source": [
    "# factories\n",
    "num_factories = 3\n",
    "factory_days = LpVariable.dicts(\"factoryDays\", \n",
    "                                list(range(num_factories)), \n",
    "                                0, \n",
    "                                30, \n",
    "                                cat=\"Continuous\")"
   ]
  },
  {
   "cell_type": "markdown",
   "metadata": {},
   "source": [
    "### Constraints\n",
    "Now that we defined our decision variables we can shift to defining the constraints for the problem. Note that the constraints have to be linear in a linear programming setting. The constraints that we care about are that the number of units assembled should be above or equal to the goal amount and the production constraint that no factory should produce more than double as the other factory:"
   ]
  },
  {
   "cell_type": "code",
   "execution_count": 6,
   "metadata": {},
   "outputs": [],
   "source": [
    "# goal constraint\n",
    "c1 = factory_days[0]*f0 + factory_days[1]*f1 + factory_days[2] * f2 >= goal\n",
    "\n",
    "# production constraints\n",
    "c2 = factory_days[0]*f0 <= 2*factory_days[1]*f1\n",
    "c3 = factory_days[0]*f0 <= 2*factory_days[2]*f2\n",
    "c4 = factory_days[1]*f1 <= 2*factory_days[2]*f2\n",
    "c5 = factory_days[1]*f1 <= 2*factory_days[0]*f0\n",
    "c6 = factory_days[2]*f2 <= 2*factory_days[1]*f1\n",
    "c7 = factory_days[2]*f2 <= 2*factory_days[0]*f0\n",
    "\n",
    "# adding the constraints to the problem\n",
    "problem += c1\n",
    "problem += c2\n",
    "problem += c3\n",
    "problem += c4\n",
    "problem += c5\n",
    "problem += c6\n",
    "problem += c7"
   ]
  },
  {
   "cell_type": "code",
   "execution_count": 7,
   "metadata": {},
   "outputs": [],
   "source": [
    "# objective function\n",
    "objCons = -factory_days[0]*cf0*f0 - factory_days[1]*cf1*f1 - factory_days[2]*cf2*f2\n",
    "problem+=objCons"
   ]
  },
  {
   "cell_type": "code",
   "execution_count": 8,
   "metadata": {},
   "outputs": [
    {
     "name": "stdout",
     "output_type": "stream",
     "text": [
      "problemName:\n",
      "MAXIMIZE\n",
      "-900000*factoryDays_0 + -630000*factoryDays_1 + -400000*factoryDays_2 + 0\n",
      "SUBJECT TO\n",
      "_C1: 2000 factoryDays_0 + 1500 factoryDays_1 + 1000 factoryDays_2 >= 80000\n",
      "\n",
      "_C2: 2000 factoryDays_0 - 3000 factoryDays_1 <= 0\n",
      "\n",
      "_C3: 2000 factoryDays_0 - 2000 factoryDays_2 <= 0\n",
      "\n",
      "_C4: 1500 factoryDays_1 - 2000 factoryDays_2 <= 0\n",
      "\n",
      "_C5: - 4000 factoryDays_0 + 1500 factoryDays_1 <= 0\n",
      "\n",
      "_C6: - 3000 factoryDays_1 + 1000 factoryDays_2 <= 0\n",
      "\n",
      "_C7: - 4000 factoryDays_0 + 1000 factoryDays_2 <= 0\n",
      "\n",
      "VARIABLES\n",
      "factoryDays_0 <= 30 Continuous\n",
      "factoryDays_1 <= 30 Continuous\n",
      "factoryDays_2 <= 30 Continuous\n",
      "\n"
     ]
    }
   ],
   "source": [
    "print(problem)"
   ]
  },
  {
   "cell_type": "markdown",
   "metadata": {},
   "source": [
    "# Solving \n",
    "solve method which outputs 1 if the problem is solved and -1 if it was infeasible."
   ]
  },
  {
   "cell_type": "code",
   "execution_count": 9,
   "metadata": {},
   "outputs": [
    {
     "data": {
      "text/plain": [
       "1"
      ]
     },
     "execution_count": 9,
     "metadata": {},
     "output_type": "execute_result"
    }
   ],
   "source": [
    "# solving\n",
    "problem.solve()"
   ]
  },
  {
   "cell_type": "code",
   "execution_count": 10,
   "metadata": {},
   "outputs": [
    {
     "name": "stdout",
     "output_type": "stream",
     "text": [
      "Factory 0: 8.3333333\n",
      "Factory 1: 22.222222\n",
      "Factory 2: 30.0\n"
     ]
    }
   ],
   "source": [
    "for i in range(3):\n",
    " print(f\"Factory {i}: {factory_days[i].varValue}\")"
   ]
  },
  {
   "cell_type": "code",
   "execution_count": 11,
   "metadata": {},
   "outputs": [
    {
     "name": "stdout",
     "output_type": "stream",
     "text": [
      "Factory 0: 16666.6666\n",
      "Factory 1: 33333.333\n",
      "Factory 2: 30000.0\n"
     ]
    }
   ],
   "source": [
    "print(f\"Factory 0: {factory_days[0].varValue*f0}\")\n",
    "print(f\"Factory 1: {factory_days[1].varValue*f1}\")\n",
    "print(f\"Factory 2: {factory_days[2].varValue*f2}\")"
   ]
  },
  {
   "cell_type": "code",
   "execution_count": null,
   "metadata": {},
   "outputs": [],
   "source": []
  }
 ],
 "metadata": {
  "kernelspec": {
   "display_name": "Python 3",
   "language": "python",
   "name": "python3"
  },
  "language_info": {
   "codemirror_mode": {
    "name": "ipython",
    "version": 3
   },
   "file_extension": ".py",
   "mimetype": "text/x-python",
   "name": "python",
   "nbconvert_exporter": "python",
   "pygments_lexer": "ipython3",
   "version": "3.7.3"
  }
 },
 "nbformat": 4,
 "nbformat_minor": 2
}
