{
 "cells": [
  {
   "cell_type": "markdown",
   "metadata": {},
   "source": [
    "# Airline Price Optimisation (using dynamic programming)\n",
    "\n",
    "Problem Link\n",
    "https://www.kaggle.com/dansbecker/airline-price-optimization-micro-challenge"
   ]
  },
  {
   "cell_type": "code",
   "execution_count": 24,
   "metadata": {},
   "outputs": [],
   "source": [
    "import numpy as np\n",
    "import pandas as pd"
   ]
  },
  {
   "cell_type": "code",
   "execution_count": 25,
   "metadata": {},
   "outputs": [],
   "source": [
    "#import sys\n",
    "#sys.path.append('../input')\n",
    "#from flight_revenue_simulator import simulate_revenue, score_me"
   ]
  },
  {
   "cell_type": "code",
   "execution_count": 26,
   "metadata": {},
   "outputs": [],
   "source": [
    "# Kaggle local file \n",
    "\n",
    "from IPython.display import display, Javascript\n",
    "import json\n",
    "from numpy.random import uniform, seed\n",
    "from numpy import floor\n",
    "from collections import namedtuple\n",
    "\n",
    "def _tickets_sold(p, demand_level, max_qty):\n",
    "        quantity_demanded = floor(max(0, p - demand_level))\n",
    "        return min(quantity_demanded, max_qty)\n",
    "\n",
    "def simulate_revenue(days_left, tickets_left, pricing_function, rev_to_date=0, demand_level_min=100, demand_level_max=200, verbose=False):\n",
    "    if (days_left == 0) or (tickets_left == 0):\n",
    "        if verbose:\n",
    "            if (days_left == 0):\n",
    "                print(\"The flight took off today. \")\n",
    "            if (tickets_left == 0):\n",
    "                print(\"This flight is booked full.\")\n",
    "            print(\"Total Revenue: ${:.0f}\".format(rev_to_date))\n",
    "        return rev_to_date\n",
    "    else:\n",
    "        demand_level = uniform(demand_level_min, demand_level_max)\n",
    "        p = pricing_function(days_left, tickets_left, demand_level)\n",
    "        q = _tickets_sold(demand_level, p, tickets_left)\n",
    "        if verbose:\n",
    "            print(\"{:.0f} days before flight: \"\n",
    "                  \"Started with {:.0f} seats. \"\n",
    "                  \"Demand level: {:.0f}. \"\n",
    "                  \"Price set to ${:.0f}. \"\n",
    "                  \"Sold {:.0f} tickets. \"\n",
    "                  \"Daily revenue is {:.0f}. Total revenue-to-date is {:.0f}. \"\n",
    "                  \"{:.0f} seats remaining\".format(days_left, tickets_left, demand_level, p, q, p*q, p*q+rev_to_date, tickets_left-q))\n",
    "        return simulate_revenue(days_left = days_left-1,\n",
    "                              tickets_left = tickets_left-q,\n",
    "                              pricing_function=pricing_function,\n",
    "                              rev_to_date=rev_to_date + p * q,\n",
    "                              demand_level_min=demand_level_min,\n",
    "                              demand_level_max=demand_level_max,\n",
    "                              verbose=verbose)\n",
    "\n",
    "def _save_score(score):\n",
    "    message = {\n",
    "        'jupyterEvent': 'custom.exercise_interaction',\n",
    "        'data': {\n",
    "            'learnTutorialId': 117,\n",
    "            'interactionType': \"check\",\n",
    "            'questionId': 'Aug31OptimizationChallenge',\n",
    "            'outcomeType': 'Pass',\n",
    "            'valueTowardsCompletion': score/10000,\n",
    "            'failureMessage': None,\n",
    "            'learnToolsVersion': \"Testing\"\n",
    "        }\n",
    "    }\n",
    "    js = 'parent.postMessage(%s, \"*\")' % json.dumps(message)\n",
    "    display(Javascript(js))\n",
    "\n",
    "def score_me(pricing_function, sims_per_scenario=200):\n",
    "    seed(0)\n",
    "    Scenario = namedtuple('Scenario', 'n_days n_tickets')\n",
    "    scenarios = [Scenario(n_days=100, n_tickets=100),\n",
    "                 Scenario(n_days=14, n_tickets=50),\n",
    "                 Scenario(n_days=2, n_tickets=20),\n",
    "                Scenario(n_days=1, n_tickets=3),\n",
    "                 ]\n",
    "    scenario_scores = []\n",
    "    for s in scenarios:\n",
    "        scenario_score = sum(simulate_revenue(s.n_days, s.n_tickets, pricing_function)\n",
    "                                     for _ in range(sims_per_scenario)) / sims_per_scenario\n",
    "        print(\"Ran {:.0f} flights starting {:.0f} days before flight with {:.0f} tickets. \"\n",
    "              \"Average revenue: ${:.0f}\".format(sims_per_scenario,\n",
    "                                                s.n_days,\n",
    "                                                s.n_tickets,\n",
    "                                                scenario_score))\n",
    "        scenario_scores.append(scenario_score)\n",
    "    score = sum(scenario_scores) / len(scenario_scores)\n",
    "    try:\n",
    "        _save_score(score)\n",
    "    except:\n",
    "        pass\n",
    "    print(\"Average revenue across all flights is ${:.0f}\".format(score))"
   ]
  },
  {
   "cell_type": "code",
   "execution_count": 30,
   "metadata": {},
   "outputs": [
    {
     "data": {
      "text/plain": [
       "array([100., 110., 120., 130., 140., 150., 160., 170., 180., 190., 200.])"
      ]
     },
     "execution_count": 30,
     "metadata": {},
     "output_type": "execute_result"
    }
   ],
   "source": [
    "n_demand_levels = 11\n",
    "min_demand_level = 100\n",
    "max_demand_level = 200\n",
    "demand_levels = np.linspace(min_demand_level, max_demand_level, n_demand_levels)\n",
    "demand_levels"
   ]
  },
  {
   "cell_type": "code",
   "execution_count": null,
   "metadata": {},
   "outputs": [],
   "source": [
    "max_tickets = 200\n",
    "max_days = 150"
   ]
  },
  {
   "cell_type": "code",
   "execution_count": 28,
   "metadata": {
    "scrolled": false
   },
   "outputs": [
    {
     "data": {
      "text/plain": [
       "(200, 200, 11, 150)"
      ]
     },
     "execution_count": 28,
     "metadata": {},
     "output_type": "execute_result"
    }
   ],
   "source": [
    "# Q indices are: n_sold in day, tickets_left to start day, demand_level, days_left\n",
    "Q = np.zeros([max_tickets, max_tickets, n_demand_levels, max_days])\n",
    "Q.shape"
   ]
  },
  {
   "cell_type": "code",
   "execution_count": 17,
   "metadata": {},
   "outputs": [
    {
     "data": {
      "text/plain": [
       "(200, 150)"
      ]
     },
     "execution_count": 17,
     "metadata": {},
     "output_type": "execute_result"
    }
   ],
   "source": [
    "# V indices are: n_left and n_days\n",
    "V = np.zeros([max_tickets, max_days])\n",
    "V.shape"
   ]
  },
  {
   "cell_type": "code",
   "execution_count": 23,
   "metadata": {},
   "outputs": [
    {
     "data": {
      "text/plain": [
       "array([100., 110., 120., 130., 140., 150., 160., 170., 180., 190., 200.])"
      ]
     },
     "execution_count": 23,
     "metadata": {},
     "output_type": "execute_result"
    }
   ],
   "source": [
    "demand_levels"
   ]
  },
  {
   "cell_type": "code",
   "execution_count": 18,
   "metadata": {},
   "outputs": [],
   "source": [
    "for tickets_left in range(max_tickets):\n",
    "    for tickets_sold in range(tickets_left+1): \n",
    "        # add 1 to offset 0 indexing. Allow selling all tickets\n",
    "        for demand_index, demand_level in enumerate(demand_levels):\n",
    "            # Never set negative prices\n",
    "            price = max(demand_level - tickets_sold, 0)\n",
    "            Q[tickets_sold, tickets_left, demand_index, 0] = price * tickets_sold\n",
    "            \n",
    "    # For each demand_level, choose the optimum number to sell. \n",
    "    #Output of this is array .of size n_demand_levels\n",
    "    revenue_from_best_quantity_at_each_demand_level = Q[:, tickets_left, :, 0].max(axis=0)\n",
    "    # take the average, since we don't know demand level ahead of time and all are equally likely\n",
    "    V[tickets_left, 0] = revenue_from_best_quantity_at_each_demand_level.mean()"
   ]
  },
  {
   "cell_type": "code",
   "execution_count": 19,
   "metadata": {},
   "outputs": [],
   "source": [
    "for days_left in range(1, max_days):\n",
    "    for tickets_left in range(max_tickets):\n",
    "        for tickets_sold in range(tickets_left):\n",
    "            for demand_index, demand_level in enumerate(demand_levels):\n",
    "                price = max(demand_level - tickets_sold, 0)\n",
    "                rev_today = price * tickets_sold\n",
    "                Q[tickets_sold, tickets_left, demand_index, days_left] = rev_today + V[tickets_left-tickets_sold, days_left-1]\n",
    "        expected_total_rev_from_best_quantity_at_each_demand_level = Q[:, tickets_left, :, days_left].max(axis=0)\n",
    "        V[tickets_left, days_left] = expected_total_rev_from_best_quantity_at_each_demand_level.mean()"
   ]
  },
  {
   "cell_type": "code",
   "execution_count": 20,
   "metadata": {},
   "outputs": [],
   "source": [
    "def pricing_function(days_left, tickets_left, demand_level):\n",
    "    demand_level_index = np.abs(demand_level - demand_levels).argmin()\n",
    "    day_index = days_left - 1 # arrays are 0 indexed\n",
    "    tickets_index = int(tickets_left)  # in case it comes in as float, but need to index with it\n",
    "    relevant_Q_vals = Q[:, tickets_index, demand_level_index, day_index]\n",
    "    desired_quantity = relevant_Q_vals.argmax()# offset 0 indexing\n",
    "    price = demand_level - desired_quantity\n",
    "    return price"
   ]
  },
  {
   "cell_type": "code",
   "execution_count": 21,
   "metadata": {},
   "outputs": [
    {
     "name": "stdout",
     "output_type": "stream",
     "text": [
      "Ran 200 flights starting 100 days before flight with 100 tickets. Average revenue: $18413\n",
      "Ran 200 flights starting 14 days before flight with 50 tickets. Average revenue: $8492\n",
      "Ran 200 flights starting 2 days before flight with 20 tickets. Average revenue: $2897\n",
      "Ran 200 flights starting 1 days before flight with 3 tickets. Average revenue: $431\n"
     ]
    },
    {
     "data": {
      "application/javascript": [
       "parent.postMessage({\"jupyterEvent\": \"custom.exercise_interaction\", \"data\": {\"learnTutorialId\": 117, \"interactionType\": \"check\", \"questionId\": \"Aug31OptimizationChallenge\", \"outcomeType\": \"Pass\", \"valueTowardsCompletion\": 0.7558045931440118, \"failureMessage\": null, \"learnToolsVersion\": \"Testing\"}}, \"*\")"
      ],
      "text/plain": [
       "<IPython.core.display.Javascript object>"
      ]
     },
     "metadata": {},
     "output_type": "display_data"
    },
    {
     "name": "stdout",
     "output_type": "stream",
     "text": [
      "Average revenue across all flights is $7558\n"
     ]
    }
   ],
   "source": [
    "score_me(pricing_function)"
   ]
  },
  {
   "cell_type": "code",
   "execution_count": null,
   "metadata": {},
   "outputs": [],
   "source": []
  }
 ],
 "metadata": {
  "kernelspec": {
   "display_name": "Python 3",
   "language": "python",
   "name": "python3"
  },
  "language_info": {
   "codemirror_mode": {
    "name": "ipython",
    "version": 3
   },
   "file_extension": ".py",
   "mimetype": "text/x-python",
   "name": "python",
   "nbconvert_exporter": "python",
   "pygments_lexer": "ipython3",
   "version": "3.7.3"
  }
 },
 "nbformat": 4,
 "nbformat_minor": 2
}
